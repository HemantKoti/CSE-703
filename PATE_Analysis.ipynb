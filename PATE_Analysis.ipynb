{
 "cells": [
  {
   "cell_type": "markdown",
   "metadata": {
    "id": "bZi32riIbuSu"
   },
   "source": [
    "# Detecting COVID-19 through Differential Privacy "
   ]
  },
  {
   "cell_type": "markdown",
   "metadata": {
    "id": "3QQm4m3KLZMb"
   },
   "source": [
    "## Problem Statement\n",
    "\n",
    "Preserve privacy of training data (data from partner hospitals) when building a deep learning model. \n",
    "\n"
   ]
  },
  {
   "cell_type": "markdown",
   "metadata": {
    "id": "BeC9yv8F9kn2"
   },
   "source": [
    "## Step 1:  Install PySyft\n"
   ]
  },
  {
   "cell_type": "code",
   "execution_count": 1,
   "metadata": {
    "colab": {
     "base_uri": "https://localhost:8080/"
    },
    "id": "XgxJUfOf9joz",
    "outputId": "5dbb7fbf-f355-4f1f-ae46-44967ef3b71d"
   },
   "outputs": [],
   "source": [
    "# from google.colab import drive\n",
    "# drive.mount('/content/drive')"
   ]
  },
  {
   "cell_type": "code",
   "execution_count": 11,
   "metadata": {},
   "outputs": [],
   "source": [
    "!conda install pytorch==1.4.0 torchvision==0.5.0 cudatoolkit=10.1 -c pytorch"
   ]
  },
  {
   "cell_type": "code",
   "execution_count": null,
   "metadata": {
    "colab": {
     "base_uri": "https://localhost:8080/"
    },
    "id": "-eTgk7RSBOiY",
    "outputId": "d7da16a4-b3fd-48ba-f921-c0e3f4f19c5a"
   },
   "outputs": [],
   "source": [
    "# Install syft package to use Private Aggregation of Teacher Ensembles (PATE)\n",
    "!pip install syft==0.2.9"
   ]
  },
  {
   "cell_type": "code",
   "execution_count": null,
   "metadata": {},
   "outputs": [],
   "source": [
    "!pip install pandas"
   ]
  },
  {
   "cell_type": "code",
   "execution_count": 8,
   "metadata": {
    "id": "Lanub0puIsnK"
   },
   "outputs": [
    {
     "output_type": "error",
     "ename": "ModuleNotFoundError",
     "evalue": "No module named 'PIL'",
     "traceback": [
      "\u001b[1;31m---------------------------------------------------------------------------\u001b[0m",
      "\u001b[1;31mModuleNotFoundError\u001b[0m                       Traceback (most recent call last)",
      "\u001b[1;32m<ipython-input-8-e04053bede7a>\u001b[0m in \u001b[0;36m<module>\u001b[1;34m\u001b[0m\n\u001b[0;32m      2\u001b[0m \u001b[1;32mimport\u001b[0m \u001b[0mnumpy\u001b[0m \u001b[1;32mas\u001b[0m \u001b[0mnp\u001b[0m\u001b[1;33m\u001b[0m\u001b[1;33m\u001b[0m\u001b[0m\n\u001b[0;32m      3\u001b[0m \u001b[1;32mimport\u001b[0m \u001b[0mpandas\u001b[0m \u001b[1;32mas\u001b[0m \u001b[0mpd\u001b[0m\u001b[1;33m\u001b[0m\u001b[1;33m\u001b[0m\u001b[0m\n\u001b[1;32m----> 4\u001b[1;33m \u001b[1;32mfrom\u001b[0m \u001b[0mPIL\u001b[0m \u001b[1;32mimport\u001b[0m \u001b[0mImage\u001b[0m\u001b[1;33m\u001b[0m\u001b[1;33m\u001b[0m\u001b[0m\n\u001b[0m\u001b[0;32m      5\u001b[0m \u001b[1;33m\u001b[0m\u001b[0m\n\u001b[0;32m      6\u001b[0m \u001b[1;32mimport\u001b[0m \u001b[0mtorch\u001b[0m\u001b[1;33m\u001b[0m\u001b[1;33m\u001b[0m\u001b[0m\n",
      "\u001b[1;31mModuleNotFoundError\u001b[0m: No module named 'PIL'"
     ]
    }
   ],
   "source": [
    "import time, os, random\n",
    "import numpy as np\n",
    "import pandas as pd\n",
    "from PIL import Image\n",
    "\n",
    "import torch\n",
    "from torchvision import datasets, transforms,models\n",
    "from torch.utils.data import Dataset, Subset, DataLoader\n",
    "from torch import nn, optim\n",
    "import torch.nn.functional as F\n",
    "\n",
    "# libary from pysyft needed to perform pate analysis\n",
    "from syft.frameworks.torch.dp import pate\n",
    "\n",
    "from torch.utils.tensorboard import SummaryWriter\n",
    "\n",
    "# we'll train on GPU if it is available\n",
    "device = torch.device(\"cuda\" if torch.cuda.is_available() else \"cpu\")"
   ]
  },
  {
   "cell_type": "markdown",
   "metadata": {
    "id": "6eNJm1kMIb7f"
   },
   "source": [
    "## Step 2: Create Teacher and Student Datasets\n",
    "\n"
   ]
  },
  {
   "cell_type": "code",
   "execution_count": null,
   "metadata": {
    "id": "PT4BWcOoTABO"
   },
   "outputs": [],
   "source": [
    "# Model: https://github.com/UCSD-AI4H/COVID-CT/blob/master/baseline%20methods/DenseNet169/DenseNet_predict.py\n",
    "class CovidCTDataset(Dataset):\n",
    "    def __init__(self, root_dir, txt_COVID, txt_NonCOVID, transform=None):\n",
    "        \"\"\"\n",
    "        Args:\n",
    "            txt_path (string): Path to the txt file with annotations.\n",
    "            root_dir (string): Directory with all the images.\n",
    "            transform (callable, optional): Optional transform to be applied\n",
    "                on a sample.\n",
    "        File structure:\n",
    "        - root_dir\n",
    "            - CT_COVID\n",
    "                - img1.png\n",
    "                - img2.png\n",
    "                - ......\n",
    "            - CT_NonCOVID\n",
    "                - img1.png\n",
    "                - img2.png\n",
    "                - ......\n",
    "        \"\"\"\n",
    "        self.root_dir = root_dir\n",
    "        self.txt_path = [txt_COVID,txt_NonCOVID]\n",
    "        self.classes = ['CT_COVID', 'CT_NonCOVID']\n",
    "        self.num_cls = len(self.classes)\n",
    "        self.img_list = []\n",
    "        for c in range(self.num_cls):\n",
    "            cls_list = [[os.path.join(self.root_dir,self.classes[c],item), c] for item in read_txt(self.txt_path[c])]\n",
    "            self.img_list += cls_list\n",
    "        self.transform = transform\n",
    "\n",
    "    def __len__(self):\n",
    "        return len(self.img_list)\n",
    "\n",
    "    def __getitem__(self, idx):\n",
    "        if torch.is_tensor(idx):\n",
    "            idx = idx.tolist()\n",
    "\n",
    "        img_path = self.img_list[idx][0]\n",
    "        image = Image.open(img_path).convert('RGB')\n",
    "\n",
    "        if self.transform:\n",
    "            image = self.transform(image)\n",
    "        label = int(self.img_list[idx][1])\n",
    "        return image, label\n",
    "\n",
    "\n",
    "\n",
    "def read_txt(txt_path):\n",
    "    with open(txt_path) as f:\n",
    "        lines = f.readlines()\n",
    "    txt_data = [line.strip() for line in lines]\n",
    "    return txt_data"
   ]
  },
  {
   "cell_type": "code",
   "execution_count": 16,
   "metadata": {
    "colab": {
     "base_uri": "https://localhost:8080/"
    },
    "id": "zsz0fjiTrOB4",
    "outputId": "5f6ee465-ced7-4ac1-ab78-94b43f07e8c5"
   },
   "outputs": [
    {
     "name": "stdout",
     "output_type": "stream",
     "text": [
      "/content/drive/My Drive/Colab Notebooks/CSE703\n"
     ]
    }
   ],
   "source": [
    "cd '/content/drive/My Drive/Colab Notebooks/CSE703'"
   ]
  },
  {
   "cell_type": "code",
   "execution_count": 17,
   "metadata": {
    "colab": {
     "base_uri": "https://localhost:8080/"
    },
    "id": "k1i1bRr6RLbO",
    "outputId": "6f3ccc0a-b54f-4bcf-ce4a-8bbc5a92ef72"
   },
   "outputs": [
    {
     "name": "stdout",
     "output_type": "stream",
     "text": [
      "Number of Classes:  2\n"
     ]
    },
    {
     "data": {
      "text/plain": [
       "(425, 203, 118)"
      ]
     },
     "execution_count": 17,
     "metadata": {
      "tags": []
     },
     "output_type": "execute_result"
    }
   ],
   "source": [
    "batchsize = 64\n",
    "path = 'data/images'\n",
    "\n",
    "# Transforms used for datasets\n",
    "data_transforms = transforms.Compose([\n",
    "    transforms.Resize(224),\n",
    "    transforms.RandomResizedCrop((224),scale=(0.5,1.0)),\n",
    "    transforms.RandomHorizontalFlip(),\n",
    "    transforms.ToTensor(),\n",
    "    transforms.Normalize(mean=[0.485, 0.456, 0.406], std=[0.229, 0.224, 0.225])\n",
    "])\n",
    "\n",
    "# divided among teachers\n",
    "trainset = CovidCTDataset(root_dir=f'{path}', \n",
    "                              txt_COVID='data/labels/CT_COVID/trainCT_COVID.txt',\n",
    "                              txt_NonCOVID='data/labels/CT_NonCOVID/trainCT_NonCOVID.txt',\n",
    "                              transform= data_transforms)\n",
    " \n",
    "# used as student valid set    \n",
    "validset = CovidCTDataset(root_dir=f'{path}',\n",
    "                              txt_COVID='data/labels/CT_COVID/valCT_COVID.txt',\n",
    "                              txt_NonCOVID='data/labels/CT_NonCOVID/valCT_NonCOVID.txt',\n",
    "                              transform= data_transforms)\n",
    "\n",
    "# used as student train set    \n",
    "testset = CovidCTDataset(root_dir=f'{path}',\n",
    "                              txt_COVID='data/labels/CT_COVID/testCT_COVID.txt',\n",
    "                              txt_NonCOVID='data/labels/CT_NonCOVID/testCT_NonCOVID.txt',\n",
    "                              transform= data_transforms)\n",
    "\n",
    "print(\"Number of Classes: \",len(trainset.classes))\n",
    "len(trainset), len(testset), len(validset)"
   ]
  },
  {
   "cell_type": "code",
   "execution_count": 18,
   "metadata": {
    "colab": {
     "base_uri": "https://localhost:8080/",
     "height": 235
    },
    "id": "0dqR3wLAP2v7",
    "outputId": "3b715e21-8b8d-4e82-e153-0a72b3848864"
   },
   "outputs": [
    {
     "name": "stdout",
     "output_type": "stream",
     "text": [
      " Image Size torch.Size([64, 3, 224, 224])\n",
      " Image Size torch.Size([3, 224, 224])\n"
     ]
    },
    {
     "data": {
      "image/png": "[encoded data removed]",
      "text/plain": [
       "<Figure size 1152x360 with 5 Axes>"
      ]
     },
     "metadata": {
      "needs_background": "light",
      "tags": []
     },
     "output_type": "display_data"
    }
   ],
   "source": [
    "data_loader = DataLoader(trainset, batch_size=batchsize, shuffle=True)\n",
    "\n",
    "import matplotlib.pyplot as plt\n",
    "\n",
    "## Method to display Image for Tensor\n",
    "def imshow(image, ax=None, title=None, normalize=True):\n",
    "    \"\"\"Imshow for Tensor.\"\"\"\n",
    "    if ax is None:\n",
    "        fig, ax = plt.subplots()\n",
    "    #print(type(image))\n",
    "    image = image.numpy().transpose((1, 2, 0))\n",
    "\n",
    "    if normalize:\n",
    "        mean = np.array([0.485, 0.456, 0.406])\n",
    "        std = np.array([0.229, 0.224, 0.225])\n",
    "        image = std * image + mean\n",
    "        image = np.clip(image, 0, 1)\n",
    "\n",
    "    ax.imshow(image)\n",
    "    ax.spines['top'].set_visible(False)\n",
    "    ax.spines['right'].set_visible(False)\n",
    "    ax.spines['left'].set_visible(False)\n",
    "    ax.spines['bottom'].set_visible(False)\n",
    "    ax.tick_params(axis='both', length=0)\n",
    "    ax.set_xticklabels('')\n",
    "    ax.set_yticklabels('')\n",
    "    return ax\n",
    "\n",
    "# Displaying Images and other info about the train set\n",
    "images, labels = next(iter(data_loader))\n",
    "print(\" Image Size\",images.size())\n",
    "print(\" Image Size\",images[0].size())\n",
    "\n",
    "fig, axes = plt.subplots(figsize=(16,5), ncols=5)\n",
    "for ii in range(5):\n",
    "    ax = axes[ii]\n",
    "    ax.set_title(labels[ii])\n",
    "    imshow(images[ii], ax=ax, normalize=True)"
   ]
  },
  {
   "cell_type": "code",
   "execution_count": 19,
   "metadata": {
    "colab": {
     "base_uri": "https://localhost:8080/"
    },
    "id": "vDVQt12ebuS_",
    "outputId": "1f933615-0340-48c1-9310-389519841086"
   },
   "outputs": [
    {
     "data": {
      "text/plain": [
       "(5, 5)"
      ]
     },
     "execution_count": 19,
     "metadata": {
      "tags": []
     },
     "output_type": "execute_result"
    }
   ],
   "source": [
    "# TEACHERS: divide train set among teachers and create dataloaders for valid and trainsets\n",
    "num_teachers = 5\n",
    "valid_per = 0.2 #20% for validation\n",
    "batch_size = 64\n",
    "\n",
    "def teacher_dataloaders(transet=trainset, num_teachers=num_teachers, batch_size=batch_size, valid_per = 0.2):\n",
    "  trainloaders = []\n",
    "  validloaders = []\n",
    "  teacher_data_len = len(trainset) // num_teachers\n",
    "\n",
    "  # Create a list of shuffled indices\n",
    "  my_list = random.sample(range(1,len(trainset)), len(trainset)-1)\n",
    "  random.shuffle(my_list)\n",
    "\n",
    "  for i in range(num_teachers):\n",
    "    # Get particular subset of data\n",
    "    indice = my_list[i*teacher_data_len: (i+1)*teacher_data_len]\n",
    "    data_subset = Subset(trainset, indice)\n",
    "\n",
    "    # Split into train and validation set\n",
    "    valid_size = int(len(data_subset) * valid_per)\n",
    "    train_size = len(data_subset) - valid_size\n",
    "    train_subset, valid_subset = torch.utils.data.random_split(data_subset, [train_size,valid_size])\n",
    "    \n",
    "    # Create data loaders\n",
    "    trainloader = DataLoader(train_subset, batch_size=batch_size, shuffle=True, num_workers=1)\n",
    "    validloader = DataLoader(valid_subset, batch_size=batch_size, shuffle=False, num_workers=1)\n",
    "\n",
    "    # Add dataloaders to list\n",
    "    trainloaders.append(trainloader)\n",
    "    validloaders.append(validloader)\n",
    "  \n",
    "  return trainloaders, validloaders\n",
    "\n",
    "# Create teacher dataloaders\n",
    "trainloaders, validloaders = teacher_dataloaders()\n",
    "len(trainloaders), len(validloaders)"
   ]
  },
  {
   "cell_type": "code",
   "execution_count": 25,
   "metadata": {
    "colab": {
     "base_uri": "https://localhost:8080/"
    },
    "id": "XZdqRgA917CW",
    "outputId": "bb7c1f5e-cd2a-4f53-ef36-b2b0fdd9005b"
   },
   "outputs": [
    {
     "data": {
      "text/plain": [
       "(3, 1)"
      ]
     },
     "execution_count": 25,
     "metadata": {
      "tags": []
     },
     "output_type": "execute_result"
    }
   ],
   "source": [
    "# STUDENT: Split into train and validation set\n",
    "valid_size = int(len(testset) * 0.2)\n",
    "train_size = len(testset) - valid_size\n",
    "student_train_subset, student_valid_subset = torch.utils.data.random_split(testset, [train_size,valid_size])\n",
    "\n",
    "# Create student dataloaders\n",
    "student_train_loader = DataLoader(student_train_subset, batch_size=batch_size, shuffle=False, num_workers=1)\n",
    "student_valid_loader = DataLoader(student_valid_subset, batch_size=batch_size, shuffle=False, num_workers=1)\n",
    "\n",
    "len(student_train_loader), len(student_valid_loader)"
   ]
  },
  {
   "cell_type": "markdown",
   "metadata": {
    "id": "wgU7Sn3gjf1Z"
   },
   "source": [
    "## Step 3: Train Teachers"
   ]
  },
  {
   "cell_type": "code",
   "execution_count": 26,
   "metadata": {
    "id": "ZDamXQCkVGfW"
   },
   "outputs": [],
   "source": [
    "writer = SummaryWriter()"
   ]
  },
  {
   "cell_type": "code",
   "execution_count": 27,
   "metadata": {
    "id": "xMjeZW4ege3l"
   },
   "outputs": [],
   "source": [
    "class CNN(torch.nn.Module):\n",
    "    def __init__(self):\n",
    "        super(CNN, self).__init__() # b, 3, 32, 32\n",
    "        layer1 = torch.nn.Sequential() \n",
    "        layer1.add_module('conv1', torch.nn.Conv2d(3, 32, 3, 1, padding=1))\n",
    " \n",
    "        # b, 32, 32, 32\n",
    "        layer1.add_module('relu1', torch.nn.ReLU(True)) \n",
    "        layer1.add_module('pool1', torch.nn.MaxPool2d(2, 2))\n",
    "        self.layer1 = layer1\n",
    "        layer4 = torch.nn.Sequential()\n",
    "        layer4.add_module('fc1', torch.nn.Linear(401408, 2))       \n",
    "        self.layer4 = layer4\n",
    " \n",
    "    def forward(self, x):\n",
    "        conv1 = self.layer1(x)\n",
    "        fc_input = conv1.view(conv1.size(0), -1)\n",
    "        fc_out = self.layer4(fc_input)\n",
    "        \n",
    "        return fc_out"
   ]
  },
  {
   "cell_type": "code",
   "execution_count": 31,
   "metadata": {
    "id": "xRNuuWN0V9Lf"
   },
   "outputs": [],
   "source": [
    "def train(n_epochs, trainloader, validloader, model, optimizer, criterion, use_cuda, save_path= None, is_not_teacher=False):\n",
    "    \"\"\"returns trained model\"\"\"\n",
    "    # Initialize tracker for minimum validation loss\n",
    "    valid_loss_min = np.Inf\n",
    "    \n",
    "    for epoch in range(1, n_epochs + 1):\n",
    "        # Initialize variables to monitor training and validation loss\n",
    "        train_loss = 0.0\n",
    "        valid_loss = 0.0\n",
    "        train_correct = 0.0\n",
    "        train_total = 0.0\n",
    "        valid_correct = 0.0\n",
    "        valid_total = 0.0\n",
    "\n",
    "        model.train()\n",
    "        for batch_idx, (data, target) in enumerate(trainloader):\n",
    "            if use_cuda:\n",
    "                data, target = data.cuda(), target.cuda()\n",
    "            optimizer.zero_grad()\n",
    "            \n",
    "            output = model(data)\n",
    "            loss = criterion(output, target)\n",
    "            loss.backward()\n",
    "            optimizer.step()    \n",
    "            train_loss = train_loss + ((1 / (batch_idx + 1)) * (loss.data - train_loss))            \n",
    "            pred = output.data.max(1, keepdim=True)[1]\n",
    "\n",
    "            train_correct += np.sum(np.squeeze(pred.eq(target.data.view_as(pred))).cpu().numpy())\n",
    "            train_total += data.size(0)\n",
    "            train_acc = 100. * train_correct / train_total\n",
    "\n",
    "            train_i = 1 + epoch * len(trainloader) + batch_idx \n",
    "\n",
    "            writer.add_scalar('train/loss', loss, train_i)\n",
    "            writer.add_scalar('train/acc', train_acc, train_i)\n",
    "               \n",
    "        # validate the model\n",
    "        model.eval()\n",
    "        for batch_idx, (data, target) in enumerate(validloader):\n",
    "            # move to GPU\n",
    "            if use_cuda:\n",
    "                data, target = data.cuda(), target.cuda()\n",
    "            output = model(data)\n",
    "            loss = criterion(output, target)\n",
    "            valid_loss = valid_loss + ((1 / (batch_idx + 1)) * (loss.data - valid_loss))\n",
    "\n",
    "            pred = output.data.max(1, keepdim=True)[1]\n",
    "            # compare predictions to true label\n",
    "            valid_correct += np.sum(np.squeeze(pred.eq(target.data.view_as(pred))).cpu().numpy())\n",
    "            valid_total += data.size(0)\n",
    "            valid_acc = 100. * valid_correct / valid_total\n",
    "    \n",
    "            val_i = 1 + epoch * len(trainloader) + batch_idx \n",
    "\n",
    "            writer.add_scalar('train/loss', loss, val_i)\n",
    "            writer.add_scalar('train/acc', valid_acc, val_i)            \n",
    "            \n",
    "        print('Epoch: {} \\n\\tTrain Loss: {:.6f} \\tTrain Acc: {:.6f} \\n\\tValid Loss: {:.6f} \\tValid Acc: {:.6f}'.format(\n",
    "            epoch,train_loss,train_acc,valid_loss,valid_acc ))\n",
    "        \n",
    "        ## Save the student model if validation loss has decreased\n",
    "        if is_not_teacher:\n",
    "          if valid_loss < valid_loss_min:\n",
    "              torch.save(model.state_dict(), save_path)\n",
    "              print('\\tValidation loss decreased ({:.6f} --> {:.6f}).  Saving model ...'.format(\n",
    "              valid_loss_min,\n",
    "              valid_loss))\n",
    "              valid_loss_min = valid_loss\n",
    "\n",
    "    writer.close()\n",
    "    return model"
   ]
  },
  {
   "cell_type": "code",
   "execution_count": 32,
   "metadata": {
    "id": "lA6uZB7_m4qw"
   },
   "outputs": [],
   "source": [
    "model = CNN()\n",
    "model.to(device)\n",
    "\n",
    "criterion = nn.CrossEntropyLoss()\n",
    "optimizer = optim.Adam(model.parameters() , lr=0.001)\n",
    "epochs = 50"
   ]
  },
  {
   "cell_type": "code",
   "execution_count": 33,
   "metadata": {
    "colab": {
     "base_uri": "https://localhost:8080/"
    },
    "id": "Eft4rDNKCv7I",
    "outputId": "1c3f4075-c913-444e-daa0-5148313279c1"
   },
   "outputs": [
    {
     "name": "stdout",
     "output_type": "stream",
     "text": [
      " Training Teacher 1\n",
      "Epoch: 1 \n",
      "\tTrain Loss: 53.988522 \tTrain Acc: 44.117647 \n",
      "\tValid Loss: 54.070160 \tValid Acc: 41.176471\n",
      "Epoch: 2 \n",
      "\tTrain Loss: 31.192661 \tTrain Acc: 55.882353 \n",
      "\tValid Loss: 46.218159 \tValid Acc: 58.823529\n",
      "Epoch: 3 \n",
      "\tTrain Loss: 24.958500 \tTrain Acc: 47.058824 \n",
      "\tValid Loss: 16.437183 \tValid Acc: 47.058824\n",
      "Epoch: 4 \n",
      "\tTrain Loss: 15.519212 \tTrain Acc: 61.764706 \n",
      "\tValid Loss: 34.194344 \tValid Acc: 52.941176\n",
      "Epoch: 5 \n",
      "\tTrain Loss: 23.346676 \tTrain Acc: 66.176471 \n",
      "\tValid Loss: 25.864517 \tValid Acc: 41.176471\n",
      "Epoch: 6 \n",
      "\tTrain Loss: 11.105003 \tTrain Acc: 63.235294 \n",
      "\tValid Loss: 20.676483 \tValid Acc: 47.058824\n",
      "Epoch: 7 \n",
      "\tTrain Loss: 19.125797 \tTrain Acc: 54.411765 \n",
      "\tValid Loss: 19.932590 \tValid Acc: 52.941176\n",
      "Epoch: 8 \n",
      "\tTrain Loss: 5.562098 \tTrain Acc: 64.705882 \n",
      "\tValid Loss: 25.971329 \tValid Acc: 47.058824\n",
      "Epoch: 9 \n",
      "\tTrain Loss: 27.103977 \tTrain Acc: 63.235294 \n",
      "\tValid Loss: 7.917366 \tValid Acc: 64.705882\n",
      "Epoch: 10 \n",
      "\tTrain Loss: 11.148678 \tTrain Acc: 64.705882 \n",
      "\tValid Loss: 14.694203 \tValid Acc: 47.058824\n",
      "Epoch: 11 \n",
      "\tTrain Loss: 12.179089 \tTrain Acc: 57.352941 \n",
      "\tValid Loss: 17.966616 \tValid Acc: 52.941176\n",
      "Epoch: 12 \n",
      "\tTrain Loss: 6.430286 \tTrain Acc: 60.294118 \n",
      "\tValid Loss: 23.560120 \tValid Acc: 29.411765\n",
      "Epoch: 13 \n",
      "\tTrain Loss: 16.495243 \tTrain Acc: 70.588235 \n",
      "\tValid Loss: 21.120436 \tValid Acc: 47.058824\n",
      "Epoch: 14 \n",
      "\tTrain Loss: 10.938856 \tTrain Acc: 63.235294 \n",
      "\tValid Loss: 12.404260 \tValid Acc: 58.823529\n",
      "Epoch: 15 \n",
      "\tTrain Loss: 6.860635 \tTrain Acc: 67.647059 \n",
      "\tValid Loss: 6.718673 \tValid Acc: 52.941176\n",
      "Epoch: 16 \n",
      "\tTrain Loss: 4.270307 \tTrain Acc: 69.117647 \n",
      "\tValid Loss: 16.643845 \tValid Acc: 52.941176\n",
      "Epoch: 17 \n",
      "\tTrain Loss: 8.734449 \tTrain Acc: 60.294118 \n",
      "\tValid Loss: 8.367795 \tValid Acc: 52.941176\n",
      "Epoch: 18 \n",
      "\tTrain Loss: 8.301611 \tTrain Acc: 58.823529 \n",
      "\tValid Loss: 6.846692 \tValid Acc: 58.823529\n",
      "Epoch: 19 \n",
      "\tTrain Loss: 6.346602 \tTrain Acc: 67.647059 \n",
      "\tValid Loss: 10.006714 \tValid Acc: 52.941176\n",
      "Epoch: 20 \n",
      "\tTrain Loss: 3.097166 \tTrain Acc: 66.176471 \n",
      "\tValid Loss: 14.922485 \tValid Acc: 52.941176\n",
      "Epoch: 21 \n",
      "\tTrain Loss: 2.371634 \tTrain Acc: 70.588235 \n",
      "\tValid Loss: 9.420045 \tValid Acc: 58.823529\n",
      "Epoch: 22 \n",
      "\tTrain Loss: 5.988446 \tTrain Acc: 61.764706 \n",
      "\tValid Loss: 2.650671 \tValid Acc: 58.823529\n",
      "Epoch: 23 \n",
      "\tTrain Loss: 1.210553 \tTrain Acc: 73.529412 \n",
      "\tValid Loss: 1.739532 \tValid Acc: 76.470588\n",
      "Epoch: 24 \n",
      "\tTrain Loss: 1.547374 \tTrain Acc: 66.176471 \n",
      "\tValid Loss: 2.412419 \tValid Acc: 58.823529\n",
      "Epoch: 25 \n",
      "\tTrain Loss: 4.539454 \tTrain Acc: 58.823529 \n",
      "\tValid Loss: 4.406283 \tValid Acc: 58.823529\n",
      "Epoch: 26 \n",
      "\tTrain Loss: 3.439294 \tTrain Acc: 60.294118 \n",
      "\tValid Loss: 4.275554 \tValid Acc: 64.705882\n",
      "Epoch: 27 \n",
      "\tTrain Loss: 1.761751 \tTrain Acc: 63.235294 \n",
      "\tValid Loss: 4.042295 \tValid Acc: 52.941176\n",
      "Epoch: 28 \n",
      "\tTrain Loss: 2.366040 \tTrain Acc: 60.294118 \n",
      "\tValid Loss: 4.274693 \tValid Acc: 52.941176\n",
      "Epoch: 29 \n",
      "\tTrain Loss: 1.714163 \tTrain Acc: 70.588235 \n",
      "\tValid Loss: 3.254210 \tValid Acc: 64.705882\n",
      "Epoch: 30 \n",
      "\tTrain Loss: 2.109318 \tTrain Acc: 69.117647 \n",
      "\tValid Loss: 2.380533 \tValid Acc: 58.823529\n",
      "Epoch: 31 \n",
      "\tTrain Loss: 0.901620 \tTrain Acc: 73.529412 \n",
      "\tValid Loss: 4.306920 \tValid Acc: 64.705882\n",
      "Epoch: 32 \n",
      "\tTrain Loss: 1.998940 \tTrain Acc: 73.529412 \n",
      "\tValid Loss: 5.331429 \tValid Acc: 52.941176\n",
      "Epoch: 33 \n",
      "\tTrain Loss: 2.018367 \tTrain Acc: 77.941176 \n",
      "\tValid Loss: 6.196760 \tValid Acc: 52.941176\n",
      "Epoch: 34 \n",
      "\tTrain Loss: 2.627229 \tTrain Acc: 63.235294 \n",
      "\tValid Loss: 4.482680 \tValid Acc: 58.823529\n",
      "Epoch: 35 \n",
      "\tTrain Loss: 5.559276 \tTrain Acc: 72.058824 \n",
      "\tValid Loss: 7.105596 \tValid Acc: 52.941176\n",
      "Epoch: 36 \n",
      "\tTrain Loss: 3.565477 \tTrain Acc: 67.647059 \n",
      "\tValid Loss: 5.371522 \tValid Acc: 52.941176\n",
      "Epoch: 37 \n",
      "\tTrain Loss: 1.545822 \tTrain Acc: 76.470588 \n",
      "\tValid Loss: 4.006875 \tValid Acc: 47.058824\n",
      "Epoch: 38 \n",
      "\tTrain Loss: 2.063787 \tTrain Acc: 76.470588 \n",
      "\tValid Loss: 2.137841 \tValid Acc: 70.588235\n",
      "Epoch: 39 \n",
      "\tTrain Loss: 1.359254 \tTrain Acc: 66.176471 \n",
      "\tValid Loss: 5.109175 \tValid Acc: 52.941176\n",
      "Epoch: 40 \n",
      "\tTrain Loss: 1.808977 \tTrain Acc: 58.823529 \n",
      "\tValid Loss: 3.993409 \tValid Acc: 58.823529\n",
      "Epoch: 41 \n",
      "\tTrain Loss: 2.321703 \tTrain Acc: 63.235294 \n",
      "\tValid Loss: 8.076303 \tValid Acc: 41.176471\n",
      "Epoch: 42 \n",
      "\tTrain Loss: 2.051929 \tTrain Acc: 64.705882 \n",
      "\tValid Loss: 5.733452 \tValid Acc: 47.058824\n",
      "Epoch: 43 \n",
      "\tTrain Loss: 1.724617 \tTrain Acc: 69.117647 \n",
      "\tValid Loss: 3.220004 \tValid Acc: 47.058824\n",
      "Epoch: 44 \n",
      "\tTrain Loss: 4.582216 \tTrain Acc: 69.117647 \n",
      "\tValid Loss: 3.981020 \tValid Acc: 47.058824\n",
      "Epoch: 45 \n",
      "\tTrain Loss: 3.890879 \tTrain Acc: 63.235294 \n",
      "\tValid Loss: 3.530664 \tValid Acc: 64.705882\n",
      "Epoch: 46 \n",
      "\tTrain Loss: 2.792506 \tTrain Acc: 61.764706 \n",
      "\tValid Loss: 6.191675 \tValid Acc: 35.294118\n",
      "Epoch: 47 \n",
      "\tTrain Loss: 1.692248 \tTrain Acc: 69.117647 \n",
      "\tValid Loss: 4.387045 \tValid Acc: 52.941176\n",
      "Epoch: 48 \n",
      "\tTrain Loss: 1.907324 \tTrain Acc: 67.647059 \n",
      "\tValid Loss: 4.493580 \tValid Acc: 47.058824\n",
      "Epoch: 49 \n",
      "\tTrain Loss: 0.890289 \tTrain Acc: 72.058824 \n",
      "\tValid Loss: 2.835891 \tValid Acc: 52.941176\n",
      "Epoch: 50 \n",
      "\tTrain Loss: 1.769472 \tTrain Acc: 67.647059 \n",
      "\tValid Loss: 2.262172 \tValid Acc: 52.941176\n",
      "========================================\n",
      " Training Teacher 2\n",
      "Epoch: 1 \n",
      "\tTrain Loss: 2.190651 \tTrain Acc: 64.705882 \n",
      "\tValid Loss: 1.575453 \tValid Acc: 70.588235\n",
      "Epoch: 2 \n",
      "\tTrain Loss: 4.949641 \tTrain Acc: 60.294118 \n",
      "\tValid Loss: 0.205385 \tValid Acc: 94.117647\n",
      "Epoch: 3 \n",
      "\tTrain Loss: 2.647682 \tTrain Acc: 55.882353 \n",
      "\tValid Loss: 3.033076 \tValid Acc: 52.941176\n",
      "Epoch: 4 \n",
      "\tTrain Loss: 5.097297 \tTrain Acc: 60.294118 \n",
      "\tValid Loss: 3.346121 \tValid Acc: 70.588235\n",
      "Epoch: 5 \n",
      "\tTrain Loss: 1.747763 \tTrain Acc: 60.294118 \n",
      "\tValid Loss: 2.243389 \tValid Acc: 58.823529\n",
      "Epoch: 6 \n",
      "\tTrain Loss: 2.418637 \tTrain Acc: 64.705882 \n",
      "\tValid Loss: 1.384734 \tValid Acc: 70.588235\n",
      "Epoch: 7 \n",
      "\tTrain Loss: 3.724559 \tTrain Acc: 66.176471 \n",
      "\tValid Loss: 2.460626 \tValid Acc: 64.705882\n",
      "Epoch: 8 \n",
      "\tTrain Loss: 1.547132 \tTrain Acc: 67.647059 \n",
      "\tValid Loss: 1.629680 \tValid Acc: 70.588235\n",
      "Epoch: 9 \n",
      "\tTrain Loss: 0.784230 \tTrain Acc: 70.588235 \n",
      "\tValid Loss: 1.951822 \tValid Acc: 64.705882\n",
      "Epoch: 10 \n",
      "\tTrain Loss: 2.742916 \tTrain Acc: 57.352941 \n",
      "\tValid Loss: 1.778756 \tValid Acc: 52.941176\n",
      "Epoch: 11 \n",
      "\tTrain Loss: 0.865232 \tTrain Acc: 58.823529 \n",
      "\tValid Loss: 0.830680 \tValid Acc: 82.352941\n",
      "Epoch: 12 \n",
      "\tTrain Loss: 1.405173 \tTrain Acc: 76.470588 \n",
      "\tValid Loss: 1.209314 \tValid Acc: 70.588235\n",
      "Epoch: 13 \n",
      "\tTrain Loss: 0.585165 \tTrain Acc: 72.058824 \n",
      "\tValid Loss: 2.468696 \tValid Acc: 52.941176\n",
      "Epoch: 14 \n",
      "\tTrain Loss: 2.131239 \tTrain Acc: 66.176471 \n",
      "\tValid Loss: 1.539189 \tValid Acc: 70.588235\n",
      "Epoch: 15 \n",
      "\tTrain Loss: 2.275633 \tTrain Acc: 63.235294 \n",
      "\tValid Loss: 1.241179 \tValid Acc: 70.588235\n",
      "Epoch: 16 \n",
      "\tTrain Loss: 1.192717 \tTrain Acc: 64.705882 \n",
      "\tValid Loss: 1.943632 \tValid Acc: 64.705882\n",
      "Epoch: 17 \n",
      "\tTrain Loss: 3.030082 \tTrain Acc: 70.588235 \n",
      "\tValid Loss: 2.074512 \tValid Acc: 64.705882\n",
      "Epoch: 18 \n",
      "\tTrain Loss: 1.240021 \tTrain Acc: 69.117647 \n",
      "\tValid Loss: 3.974168 \tValid Acc: 70.588235\n",
      "Epoch: 19 \n",
      "\tTrain Loss: 3.108752 \tTrain Acc: 69.117647 \n",
      "\tValid Loss: 1.371095 \tValid Acc: 64.705882\n",
      "Epoch: 20 \n",
      "\tTrain Loss: 1.400456 \tTrain Acc: 67.647059 \n",
      "\tValid Loss: 3.324890 \tValid Acc: 64.705882\n",
      "Epoch: 21 \n",
      "\tTrain Loss: 2.213023 \tTrain Acc: 60.294118 \n",
      "\tValid Loss: 1.013373 \tValid Acc: 64.705882\n",
      "Epoch: 22 \n",
      "\tTrain Loss: 1.077309 \tTrain Acc: 70.588235 \n",
      "\tValid Loss: 0.950229 \tValid Acc: 70.588235\n",
      "Epoch: 23 \n",
      "\tTrain Loss: 1.053476 \tTrain Acc: 70.588235 \n",
      "\tValid Loss: 3.581322 \tValid Acc: 64.705882\n",
      "Epoch: 24 \n",
      "\tTrain Loss: 2.724657 \tTrain Acc: 57.352941 \n",
      "\tValid Loss: 1.273862 \tValid Acc: 70.588235\n",
      "Epoch: 25 \n",
      "\tTrain Loss: 1.410411 \tTrain Acc: 69.117647 \n",
      "\tValid Loss: 2.102365 \tValid Acc: 58.823529\n",
      "Epoch: 26 \n",
      "\tTrain Loss: 0.571898 \tTrain Acc: 75.000000 \n",
      "\tValid Loss: 2.979969 \tValid Acc: 70.588235\n",
      "Epoch: 27 \n",
      "\tTrain Loss: 0.909024 \tTrain Acc: 72.058824 \n",
      "\tValid Loss: 2.884923 \tValid Acc: 64.705882\n",
      "Epoch: 28 \n",
      "\tTrain Loss: 4.246151 \tTrain Acc: 70.588235 \n",
      "\tValid Loss: 1.132057 \tValid Acc: 76.470588\n",
      "Epoch: 29 \n",
      "\tTrain Loss: 0.827707 \tTrain Acc: 72.058824 \n",
      "\tValid Loss: 1.034710 \tValid Acc: 76.470588\n",
      "Epoch: 30 \n",
      "\tTrain Loss: 3.843799 \tTrain Acc: 66.176471 \n",
      "\tValid Loss: 2.903221 \tValid Acc: 52.941176\n",
      "Epoch: 31 \n",
      "\tTrain Loss: 2.802039 \tTrain Acc: 76.470588 \n",
      "\tValid Loss: 2.141353 \tValid Acc: 58.823529\n",
      "Epoch: 32 \n",
      "\tTrain Loss: 0.867162 \tTrain Acc: 69.117647 \n",
      "\tValid Loss: 3.931776 \tValid Acc: 64.705882\n",
      "Epoch: 33 \n",
      "\tTrain Loss: 5.632751 \tTrain Acc: 64.705882 \n",
      "\tValid Loss: 2.547411 \tValid Acc: 70.588235\n",
      "Epoch: 34 \n",
      "\tTrain Loss: 0.733411 \tTrain Acc: 76.470588 \n",
      "\tValid Loss: 4.328732 \tValid Acc: 41.176471\n",
      "Epoch: 35 \n",
      "\tTrain Loss: 1.672827 \tTrain Acc: 63.235294 \n",
      "\tValid Loss: 5.133617 \tValid Acc: 47.058824\n",
      "Epoch: 36 \n",
      "\tTrain Loss: 4.894370 \tTrain Acc: 47.058824 \n",
      "\tValid Loss: 5.181588 \tValid Acc: 47.058824\n",
      "Epoch: 37 \n",
      "\tTrain Loss: 1.580046 \tTrain Acc: 60.294118 \n",
      "\tValid Loss: 1.429749 \tValid Acc: 70.588235\n",
      "Epoch: 38 \n",
      "\tTrain Loss: 4.249374 \tTrain Acc: 73.529412 \n",
      "\tValid Loss: 1.874255 \tValid Acc: 58.823529\n",
      "Epoch: 39 \n",
      "\tTrain Loss: 1.578100 \tTrain Acc: 66.176471 \n",
      "\tValid Loss: 1.043438 \tValid Acc: 64.705882\n",
      "Epoch: 40 \n",
      "\tTrain Loss: 0.563894 \tTrain Acc: 72.058824 \n",
      "\tValid Loss: 2.617851 \tValid Acc: 70.588235\n",
      "Epoch: 41 \n",
      "\tTrain Loss: 1.156938 \tTrain Acc: 67.647059 \n",
      "\tValid Loss: 3.421918 \tValid Acc: 64.705882\n",
      "Epoch: 42 \n",
      "\tTrain Loss: 1.230967 \tTrain Acc: 66.176471 \n",
      "\tValid Loss: 3.141413 \tValid Acc: 52.941176\n",
      "Epoch: 43 \n",
      "\tTrain Loss: 0.664326 \tTrain Acc: 72.058824 \n",
      "\tValid Loss: 1.842692 \tValid Acc: 70.588235\n",
      "Epoch: 44 \n",
      "\tTrain Loss: 2.147169 \tTrain Acc: 69.117647 \n",
      "\tValid Loss: 0.946987 \tValid Acc: 82.352941\n",
      "Epoch: 45 \n",
      "\tTrain Loss: 0.900839 \tTrain Acc: 72.058824 \n",
      "\tValid Loss: 0.446057 \tValid Acc: 70.588235\n",
      "Epoch: 46 \n",
      "\tTrain Loss: 1.051626 \tTrain Acc: 70.588235 \n",
      "\tValid Loss: 1.400964 \tValid Acc: 70.588235\n",
      "Epoch: 47 \n",
      "\tTrain Loss: 0.732342 \tTrain Acc: 75.000000 \n",
      "\tValid Loss: 1.082906 \tValid Acc: 58.823529\n",
      "Epoch: 48 \n",
      "\tTrain Loss: 1.252009 \tTrain Acc: 75.000000 \n",
      "\tValid Loss: 1.943683 \tValid Acc: 64.705882\n",
      "Epoch: 49 \n",
      "\tTrain Loss: 0.662697 \tTrain Acc: 77.941176 \n",
      "\tValid Loss: 1.355587 \tValid Acc: 70.588235\n",
      "Epoch: 50 \n",
      "\tTrain Loss: 1.201902 \tTrain Acc: 66.176471 \n",
      "\tValid Loss: 2.362371 \tValid Acc: 70.588235\n",
      "========================================\n",
      " Training Teacher 3\n",
      "Epoch: 1 \n",
      "\tTrain Loss: 1.881032 \tTrain Acc: 54.411765 \n",
      "\tValid Loss: 1.543264 \tValid Acc: 52.941176\n",
      "Epoch: 2 \n",
      "\tTrain Loss: 0.714276 \tTrain Acc: 76.470588 \n",
      "\tValid Loss: 2.886450 \tValid Acc: 58.823529\n",
      "Epoch: 3 \n",
      "\tTrain Loss: 2.544652 \tTrain Acc: 66.176471 \n",
      "\tValid Loss: 6.217830 \tValid Acc: 35.294118\n",
      "Epoch: 4 \n",
      "\tTrain Loss: 6.986197 \tTrain Acc: 63.235294 \n",
      "\tValid Loss: 2.132241 \tValid Acc: 52.941176\n",
      "Epoch: 5 \n",
      "\tTrain Loss: 0.786840 \tTrain Acc: 70.588235 \n",
      "\tValid Loss: 7.087063 \tValid Acc: 58.823529\n",
      "Epoch: 6 \n",
      "\tTrain Loss: 4.886106 \tTrain Acc: 54.411765 \n",
      "\tValid Loss: 7.249939 \tValid Acc: 58.823529\n",
      "Epoch: 7 \n",
      "\tTrain Loss: 2.686404 \tTrain Acc: 54.411765 \n",
      "\tValid Loss: 4.888162 \tValid Acc: 58.823529\n",
      "Epoch: 8 \n",
      "\tTrain Loss: 2.055266 \tTrain Acc: 70.588235 \n",
      "\tValid Loss: 2.737389 \tValid Acc: 41.176471\n",
      "Epoch: 9 \n",
      "\tTrain Loss: 1.360260 \tTrain Acc: 77.941176 \n",
      "\tValid Loss: 3.301114 \tValid Acc: 58.823529\n",
      "Epoch: 10 \n",
      "\tTrain Loss: 3.953300 \tTrain Acc: 64.705882 \n",
      "\tValid Loss: 2.221259 \tValid Acc: 64.705882\n",
      "Epoch: 11 \n",
      "\tTrain Loss: 2.136952 \tTrain Acc: 66.176471 \n",
      "\tValid Loss: 2.510797 \tValid Acc: 70.588235\n",
      "Epoch: 12 \n",
      "\tTrain Loss: 1.963902 \tTrain Acc: 66.176471 \n",
      "\tValid Loss: 6.009365 \tValid Acc: 58.823529\n",
      "Epoch: 13 \n",
      "\tTrain Loss: 4.322032 \tTrain Acc: 64.705882 \n",
      "\tValid Loss: 5.064632 \tValid Acc: 58.823529\n",
      "Epoch: 14 \n",
      "\tTrain Loss: 1.756145 \tTrain Acc: 66.176471 \n",
      "\tValid Loss: 4.066799 \tValid Acc: 47.058824\n",
      "Epoch: 15 \n",
      "\tTrain Loss: 0.795030 \tTrain Acc: 72.058824 \n",
      "\tValid Loss: 2.382375 \tValid Acc: 52.941176\n",
      "Epoch: 16 \n",
      "\tTrain Loss: 0.727945 \tTrain Acc: 73.529412 \n",
      "\tValid Loss: 2.665293 \tValid Acc: 58.823529\n",
      "Epoch: 17 \n",
      "\tTrain Loss: 2.091093 \tTrain Acc: 67.647059 \n",
      "\tValid Loss: 1.683960 \tValid Acc: 52.941176\n",
      "Epoch: 18 \n",
      "\tTrain Loss: 2.818475 \tTrain Acc: 63.235294 \n",
      "\tValid Loss: 2.700764 \tValid Acc: 64.705882\n",
      "Epoch: 19 \n",
      "\tTrain Loss: 1.426864 \tTrain Acc: 64.705882 \n",
      "\tValid Loss: 4.845378 \tValid Acc: 58.823529\n",
      "Epoch: 20 \n",
      "\tTrain Loss: 2.125655 \tTrain Acc: 66.176471 \n",
      "\tValid Loss: 5.151632 \tValid Acc: 58.823529\n",
      "Epoch: 21 \n",
      "\tTrain Loss: 2.827760 \tTrain Acc: 66.176471 \n",
      "\tValid Loss: 3.601244 \tValid Acc: 52.941176\n",
      "Epoch: 22 \n",
      "\tTrain Loss: 0.831829 \tTrain Acc: 72.058824 \n",
      "\tValid Loss: 3.667136 \tValid Acc: 41.176471\n",
      "Epoch: 23 \n",
      "\tTrain Loss: 3.697423 \tTrain Acc: 67.647059 \n",
      "\tValid Loss: 2.694100 \tValid Acc: 41.176471\n",
      "Epoch: 24 \n",
      "\tTrain Loss: 2.177948 \tTrain Acc: 63.235294 \n",
      "\tValid Loss: 4.205613 \tValid Acc: 41.176471\n",
      "Epoch: 25 \n",
      "\tTrain Loss: 1.300187 \tTrain Acc: 61.764706 \n",
      "\tValid Loss: 4.648883 \tValid Acc: 64.705882\n",
      "Epoch: 26 \n",
      "\tTrain Loss: 1.238973 \tTrain Acc: 63.235294 \n",
      "\tValid Loss: 3.892601 \tValid Acc: 47.058824\n",
      "Epoch: 27 \n",
      "\tTrain Loss: 2.724344 \tTrain Acc: 72.058824 \n",
      "\tValid Loss: 2.782476 \tValid Acc: 58.823529\n",
      "Epoch: 28 \n",
      "\tTrain Loss: 0.538933 \tTrain Acc: 82.352941 \n",
      "\tValid Loss: 1.548129 \tValid Acc: 70.588235\n",
      "Epoch: 29 \n",
      "\tTrain Loss: 1.268633 \tTrain Acc: 61.764706 \n",
      "\tValid Loss: 1.755661 \tValid Acc: 70.588235\n",
      "Epoch: 30 \n",
      "\tTrain Loss: 0.801646 \tTrain Acc: 79.411765 \n",
      "\tValid Loss: 2.594906 \tValid Acc: 58.823529\n",
      "Epoch: 31 \n",
      "\tTrain Loss: 1.167378 \tTrain Acc: 79.411765 \n",
      "\tValid Loss: 1.474080 \tValid Acc: 64.705882\n",
      "Epoch: 32 \n",
      "\tTrain Loss: 0.652669 \tTrain Acc: 80.882353 \n",
      "\tValid Loss: 2.524211 \tValid Acc: 58.823529\n",
      "Epoch: 33 \n",
      "\tTrain Loss: 0.860480 \tTrain Acc: 67.647059 \n",
      "\tValid Loss: 1.885783 \tValid Acc: 70.588235\n",
      "Epoch: 34 \n",
      "\tTrain Loss: 0.527026 \tTrain Acc: 75.000000 \n",
      "\tValid Loss: 1.588380 \tValid Acc: 76.470588\n",
      "Epoch: 35 \n",
      "\tTrain Loss: 1.852587 \tTrain Acc: 64.705882 \n",
      "\tValid Loss: 2.712974 \tValid Acc: 58.823529\n",
      "Epoch: 36 \n",
      "\tTrain Loss: 0.960146 \tTrain Acc: 66.176471 \n",
      "\tValid Loss: 2.215076 \tValid Acc: 70.588235\n",
      "Epoch: 37 \n",
      "\tTrain Loss: 1.909562 \tTrain Acc: 72.058824 \n",
      "\tValid Loss: 2.934428 \tValid Acc: 52.941176\n",
      "Epoch: 38 \n",
      "\tTrain Loss: 2.923110 \tTrain Acc: 72.058824 \n",
      "\tValid Loss: 3.879398 \tValid Acc: 35.294118\n",
      "Epoch: 39 \n",
      "\tTrain Loss: 0.683846 \tTrain Acc: 70.588235 \n",
      "\tValid Loss: 3.741297 \tValid Acc: 58.823529\n",
      "Epoch: 40 \n",
      "\tTrain Loss: 1.744011 \tTrain Acc: 66.176471 \n",
      "\tValid Loss: 1.739110 \tValid Acc: 64.705882\n",
      "Epoch: 41 \n",
      "\tTrain Loss: 0.706851 \tTrain Acc: 73.529412 \n",
      "\tValid Loss: 2.646359 \tValid Acc: 52.941176\n",
      "Epoch: 42 \n",
      "\tTrain Loss: 1.365923 \tTrain Acc: 79.411765 \n",
      "\tValid Loss: 1.907201 \tValid Acc: 58.823529\n",
      "Epoch: 43 \n",
      "\tTrain Loss: 0.742030 \tTrain Acc: 82.352941 \n",
      "\tValid Loss: 1.770685 \tValid Acc: 64.705882\n",
      "Epoch: 44 \n",
      "\tTrain Loss: 2.348447 \tTrain Acc: 76.470588 \n",
      "\tValid Loss: 2.881875 \tValid Acc: 52.941176\n",
      "Epoch: 45 \n",
      "\tTrain Loss: 1.451708 \tTrain Acc: 67.647059 \n",
      "\tValid Loss: 1.792744 \tValid Acc: 70.588235\n",
      "Epoch: 46 \n",
      "\tTrain Loss: 2.130885 \tTrain Acc: 80.882353 \n",
      "\tValid Loss: 3.348435 \tValid Acc: 52.941176\n",
      "Epoch: 47 \n",
      "\tTrain Loss: 2.074752 \tTrain Acc: 79.411765 \n",
      "\tValid Loss: 2.669807 \tValid Acc: 35.294118\n",
      "Epoch: 48 \n",
      "\tTrain Loss: 0.670028 \tTrain Acc: 77.941176 \n",
      "\tValid Loss: 2.439026 \tValid Acc: 47.058824\n",
      "Epoch: 49 \n",
      "\tTrain Loss: 1.760259 \tTrain Acc: 69.117647 \n",
      "\tValid Loss: 1.841996 \tValid Acc: 70.588235\n",
      "Epoch: 50 \n",
      "\tTrain Loss: 1.020118 \tTrain Acc: 70.588235 \n",
      "\tValid Loss: 1.640380 \tValid Acc: 64.705882\n",
      "========================================\n",
      " Training Teacher 4\n",
      "Epoch: 1 \n",
      "\tTrain Loss: 2.370782 \tTrain Acc: 54.411765 \n",
      "\tValid Loss: 3.021138 \tValid Acc: 41.176471\n",
      "Epoch: 2 \n",
      "\tTrain Loss: 2.539674 \tTrain Acc: 55.882353 \n",
      "\tValid Loss: 2.898730 \tValid Acc: 64.705882\n",
      "Epoch: 3 \n",
      "\tTrain Loss: 1.028043 \tTrain Acc: 60.294118 \n",
      "\tValid Loss: 2.485149 \tValid Acc: 64.705882\n",
      "Epoch: 4 \n",
      "\tTrain Loss: 1.718306 \tTrain Acc: 60.294118 \n",
      "\tValid Loss: 3.257707 \tValid Acc: 58.823529\n",
      "Epoch: 5 \n",
      "\tTrain Loss: 1.118172 \tTrain Acc: 73.529412 \n",
      "\tValid Loss: 1.221129 \tValid Acc: 64.705882\n",
      "Epoch: 6 \n",
      "\tTrain Loss: 1.408712 \tTrain Acc: 60.294118 \n",
      "\tValid Loss: 1.648554 \tValid Acc: 70.588235\n",
      "Epoch: 7 \n",
      "\tTrain Loss: 1.528944 \tTrain Acc: 66.176471 \n",
      "\tValid Loss: 2.558459 \tValid Acc: 52.941176\n",
      "Epoch: 8 \n",
      "\tTrain Loss: 1.044624 \tTrain Acc: 58.823529 \n",
      "\tValid Loss: 2.262506 \tValid Acc: 52.941176\n",
      "Epoch: 9 \n",
      "\tTrain Loss: 0.810359 \tTrain Acc: 70.588235 \n",
      "\tValid Loss: 2.249714 \tValid Acc: 58.823529\n",
      "Epoch: 10 \n",
      "\tTrain Loss: 1.526505 \tTrain Acc: 73.529412 \n",
      "\tValid Loss: 1.802595 \tValid Acc: 64.705882\n",
      "Epoch: 11 \n",
      "\tTrain Loss: 1.067632 \tTrain Acc: 69.117647 \n",
      "\tValid Loss: 1.722279 \tValid Acc: 58.823529\n",
      "Epoch: 12 \n",
      "\tTrain Loss: 1.471773 \tTrain Acc: 57.352941 \n",
      "\tValid Loss: 1.490722 \tValid Acc: 64.705882\n",
      "Epoch: 13 \n",
      "\tTrain Loss: 0.769188 \tTrain Acc: 66.176471 \n",
      "\tValid Loss: 2.615701 \tValid Acc: 41.176471\n",
      "Epoch: 14 \n",
      "\tTrain Loss: 1.376056 \tTrain Acc: 66.176471 \n",
      "\tValid Loss: 1.467140 \tValid Acc: 70.588235\n",
      "Epoch: 15 \n",
      "\tTrain Loss: 0.725656 \tTrain Acc: 73.529412 \n",
      "\tValid Loss: 3.210643 \tValid Acc: 76.470588\n",
      "Epoch: 16 \n",
      "\tTrain Loss: 2.281853 \tTrain Acc: 69.117647 \n",
      "\tValid Loss: 1.901917 \tValid Acc: 58.823529\n",
      "Epoch: 17 \n",
      "\tTrain Loss: 1.884983 \tTrain Acc: 66.176471 \n",
      "\tValid Loss: 3.223756 \tValid Acc: 52.941176\n",
      "Epoch: 18 \n",
      "\tTrain Loss: 1.603913 \tTrain Acc: 63.235294 \n",
      "\tValid Loss: 1.669770 \tValid Acc: 52.941176\n",
      "Epoch: 19 \n",
      "\tTrain Loss: 2.685809 \tTrain Acc: 64.705882 \n",
      "\tValid Loss: 2.045869 \tValid Acc: 64.705882\n",
      "Epoch: 20 \n",
      "\tTrain Loss: 2.103922 \tTrain Acc: 70.588235 \n",
      "\tValid Loss: 1.079403 \tValid Acc: 70.588235\n",
      "Epoch: 21 \n",
      "\tTrain Loss: 0.748945 \tTrain Acc: 70.588235 \n",
      "\tValid Loss: 3.079401 \tValid Acc: 70.588235\n",
      "Epoch: 22 \n",
      "\tTrain Loss: 2.477376 \tTrain Acc: 64.705882 \n",
      "\tValid Loss: 0.994638 \tValid Acc: 82.352941\n",
      "Epoch: 23 \n",
      "\tTrain Loss: 1.581761 \tTrain Acc: 63.235294 \n",
      "\tValid Loss: 1.094932 \tValid Acc: 82.352941\n",
      "Epoch: 24 \n",
      "\tTrain Loss: 1.422109 \tTrain Acc: 61.764706 \n",
      "\tValid Loss: 1.133531 \tValid Acc: 64.705882\n",
      "Epoch: 25 \n",
      "\tTrain Loss: 1.382786 \tTrain Acc: 69.117647 \n",
      "\tValid Loss: 2.126979 \tValid Acc: 52.941176\n",
      "Epoch: 26 \n",
      "\tTrain Loss: 1.123755 \tTrain Acc: 66.176471 \n",
      "\tValid Loss: 2.570265 \tValid Acc: 64.705882\n",
      "Epoch: 27 \n",
      "\tTrain Loss: 0.779395 \tTrain Acc: 64.705882 \n",
      "\tValid Loss: 2.476332 \tValid Acc: 52.941176\n",
      "Epoch: 28 \n",
      "\tTrain Loss: 0.849147 \tTrain Acc: 66.176471 \n",
      "\tValid Loss: 1.005227 \tValid Acc: 82.352941\n",
      "Epoch: 29 \n",
      "\tTrain Loss: 3.856261 \tTrain Acc: 72.058824 \n",
      "\tValid Loss: 1.677876 \tValid Acc: 58.823529\n",
      "Epoch: 30 \n",
      "\tTrain Loss: 0.846112 \tTrain Acc: 66.176471 \n",
      "\tValid Loss: 2.585860 \tValid Acc: 58.823529\n",
      "Epoch: 31 \n",
      "\tTrain Loss: 0.993492 \tTrain Acc: 72.058824 \n",
      "\tValid Loss: 1.889589 \tValid Acc: 70.588235\n",
      "Epoch: 32 \n",
      "\tTrain Loss: 3.047766 \tTrain Acc: 63.235294 \n",
      "\tValid Loss: 1.424141 \tValid Acc: 64.705882\n",
      "Epoch: 33 \n",
      "\tTrain Loss: 1.759588 \tTrain Acc: 63.235294 \n",
      "\tValid Loss: 1.638098 \tValid Acc: 64.705882\n",
      "Epoch: 34 \n",
      "\tTrain Loss: 1.649319 \tTrain Acc: 70.588235 \n",
      "\tValid Loss: 3.120734 \tValid Acc: 47.058824\n",
      "Epoch: 35 \n",
      "\tTrain Loss: 1.184340 \tTrain Acc: 66.176471 \n",
      "\tValid Loss: 2.767596 \tValid Acc: 64.705882\n",
      "Epoch: 36 \n",
      "\tTrain Loss: 0.919950 \tTrain Acc: 69.117647 \n",
      "\tValid Loss: 2.742362 \tValid Acc: 47.058824\n",
      "Epoch: 37 \n",
      "\tTrain Loss: 3.087840 \tTrain Acc: 60.294118 \n",
      "\tValid Loss: 1.668149 \tValid Acc: 70.588235\n",
      "Epoch: 38 \n",
      "\tTrain Loss: 0.768454 \tTrain Acc: 64.705882 \n",
      "\tValid Loss: 0.831256 \tValid Acc: 82.352941\n",
      "Epoch: 39 \n",
      "\tTrain Loss: 1.939929 \tTrain Acc: 67.647059 \n",
      "\tValid Loss: 2.124459 \tValid Acc: 64.705882\n",
      "Epoch: 40 \n",
      "\tTrain Loss: 1.587049 \tTrain Acc: 64.705882 \n",
      "\tValid Loss: 0.839544 \tValid Acc: 76.470588\n",
      "Epoch: 41 \n",
      "\tTrain Loss: 1.448837 \tTrain Acc: 64.705882 \n",
      "\tValid Loss: 1.704199 \tValid Acc: 70.588235\n",
      "Epoch: 42 \n",
      "\tTrain Loss: 2.492850 \tTrain Acc: 70.588235 \n",
      "\tValid Loss: 2.105433 \tValid Acc: 58.823529\n",
      "Epoch: 43 \n",
      "\tTrain Loss: 3.415359 \tTrain Acc: 66.176471 \n",
      "\tValid Loss: 0.996623 \tValid Acc: 82.352941\n",
      "Epoch: 44 \n",
      "\tTrain Loss: 0.457778 \tTrain Acc: 75.000000 \n",
      "\tValid Loss: 3.484173 \tValid Acc: 52.941176\n",
      "Epoch: 45 \n",
      "\tTrain Loss: 0.757353 \tTrain Acc: 72.058824 \n",
      "\tValid Loss: 3.039950 \tValid Acc: 47.058824\n",
      "Epoch: 46 \n",
      "\tTrain Loss: 1.640108 \tTrain Acc: 70.588235 \n",
      "\tValid Loss: 2.113317 \tValid Acc: 70.588235\n",
      "Epoch: 47 \n",
      "\tTrain Loss: 3.036418 \tTrain Acc: 67.647059 \n",
      "\tValid Loss: 2.337533 \tValid Acc: 58.823529\n",
      "Epoch: 48 \n",
      "\tTrain Loss: 2.198769 \tTrain Acc: 72.058824 \n",
      "\tValid Loss: 2.065954 \tValid Acc: 70.588235\n",
      "Epoch: 49 \n",
      "\tTrain Loss: 1.266626 \tTrain Acc: 66.176471 \n",
      "\tValid Loss: 1.794814 \tValid Acc: 47.058824\n",
      "Epoch: 50 \n",
      "\tTrain Loss: 1.606649 \tTrain Acc: 64.705882 \n",
      "\tValid Loss: 3.408033 \tValid Acc: 35.294118\n",
      "========================================\n",
      " Training Teacher 5\n",
      "Epoch: 1 \n",
      "\tTrain Loss: 3.059267 \tTrain Acc: 61.764706 \n",
      "\tValid Loss: 0.803766 \tValid Acc: 81.250000\n",
      "Epoch: 2 \n",
      "\tTrain Loss: 0.905731 \tTrain Acc: 73.529412 \n",
      "\tValid Loss: 2.114979 \tValid Acc: 56.250000\n",
      "Epoch: 3 \n",
      "\tTrain Loss: 1.300260 \tTrain Acc: 69.117647 \n",
      "\tValid Loss: 2.709434 \tValid Acc: 56.250000\n",
      "Epoch: 4 \n",
      "\tTrain Loss: 2.035704 \tTrain Acc: 70.588235 \n",
      "\tValid Loss: 3.779540 \tValid Acc: 62.500000\n",
      "Epoch: 5 \n",
      "\tTrain Loss: 3.204425 \tTrain Acc: 69.117647 \n",
      "\tValid Loss: 2.456671 \tValid Acc: 68.750000\n",
      "Epoch: 6 \n",
      "\tTrain Loss: 3.112160 \tTrain Acc: 73.529412 \n",
      "\tValid Loss: 3.211885 \tValid Acc: 68.750000\n",
      "Epoch: 7 \n",
      "\tTrain Loss: 1.047748 \tTrain Acc: 70.588235 \n",
      "\tValid Loss: 0.963645 \tValid Acc: 75.000000\n",
      "Epoch: 8 \n",
      "\tTrain Loss: 1.260083 \tTrain Acc: 67.647059 \n",
      "\tValid Loss: 0.279110 \tValid Acc: 81.250000\n",
      "Epoch: 9 \n",
      "\tTrain Loss: 1.078587 \tTrain Acc: 79.411765 \n",
      "\tValid Loss: 0.730127 \tValid Acc: 75.000000\n",
      "Epoch: 10 \n",
      "\tTrain Loss: 0.530679 \tTrain Acc: 77.941176 \n",
      "\tValid Loss: 0.409413 \tValid Acc: 81.250000\n",
      "Epoch: 11 \n",
      "\tTrain Loss: 2.670323 \tTrain Acc: 76.470588 \n",
      "\tValid Loss: 0.783860 \tValid Acc: 81.250000\n",
      "Epoch: 12 \n",
      "\tTrain Loss: 0.781437 \tTrain Acc: 76.470588 \n",
      "\tValid Loss: 0.452986 \tValid Acc: 87.500000\n",
      "Epoch: 13 \n",
      "\tTrain Loss: 0.846755 \tTrain Acc: 73.529412 \n",
      "\tValid Loss: 1.498744 \tValid Acc: 75.000000\n",
      "Epoch: 14 \n",
      "\tTrain Loss: 0.941492 \tTrain Acc: 76.470588 \n",
      "\tValid Loss: 1.449615 \tValid Acc: 75.000000\n",
      "Epoch: 15 \n",
      "\tTrain Loss: 0.546314 \tTrain Acc: 76.470588 \n",
      "\tValid Loss: 0.920332 \tValid Acc: 75.000000\n",
      "Epoch: 16 \n",
      "\tTrain Loss: 1.243700 \tTrain Acc: 80.882353 \n",
      "\tValid Loss: 0.511090 \tValid Acc: 75.000000\n",
      "Epoch: 17 \n",
      "\tTrain Loss: 0.642357 \tTrain Acc: 79.411765 \n",
      "\tValid Loss: 0.184948 \tValid Acc: 93.750000\n",
      "Epoch: 18 \n",
      "\tTrain Loss: 0.733701 \tTrain Acc: 77.941176 \n",
      "\tValid Loss: 0.578475 \tValid Acc: 93.750000\n",
      "Epoch: 19 \n",
      "\tTrain Loss: 2.852546 \tTrain Acc: 79.411765 \n",
      "\tValid Loss: 1.110808 \tValid Acc: 62.500000\n",
      "Epoch: 20 \n",
      "\tTrain Loss: 0.635464 \tTrain Acc: 79.411765 \n",
      "\tValid Loss: 1.062302 \tValid Acc: 68.750000\n",
      "Epoch: 21 \n",
      "\tTrain Loss: 2.481525 \tTrain Acc: 77.941176 \n",
      "\tValid Loss: 1.152164 \tValid Acc: 68.750000\n",
      "Epoch: 22 \n",
      "\tTrain Loss: 0.603571 \tTrain Acc: 82.352941 \n",
      "\tValid Loss: 1.227976 \tValid Acc: 68.750000\n",
      "Epoch: 23 \n",
      "\tTrain Loss: 1.251091 \tTrain Acc: 82.352941 \n",
      "\tValid Loss: 0.434757 \tValid Acc: 81.250000\n",
      "Epoch: 24 \n",
      "\tTrain Loss: 0.451707 \tTrain Acc: 83.823529 \n",
      "\tValid Loss: 0.573381 \tValid Acc: 81.250000\n",
      "Epoch: 25 \n",
      "\tTrain Loss: 0.414397 \tTrain Acc: 82.352941 \n",
      "\tValid Loss: 0.837451 \tValid Acc: 87.500000\n",
      "Epoch: 26 \n",
      "\tTrain Loss: 0.370334 \tTrain Acc: 82.352941 \n",
      "\tValid Loss: 0.828166 \tValid Acc: 81.250000\n",
      "Epoch: 27 \n",
      "\tTrain Loss: 0.377649 \tTrain Acc: 80.882353 \n",
      "\tValid Loss: 0.810355 \tValid Acc: 75.000000\n",
      "Epoch: 28 \n",
      "\tTrain Loss: 0.765352 \tTrain Acc: 83.823529 \n",
      "\tValid Loss: 0.775033 \tValid Acc: 81.250000\n",
      "Epoch: 29 \n",
      "\tTrain Loss: 0.477454 \tTrain Acc: 76.470588 \n",
      "\tValid Loss: 0.593768 \tValid Acc: 81.250000\n",
      "Epoch: 30 \n",
      "\tTrain Loss: 0.666688 \tTrain Acc: 77.941176 \n",
      "\tValid Loss: 1.256278 \tValid Acc: 56.250000\n",
      "Epoch: 31 \n",
      "\tTrain Loss: 0.584706 \tTrain Acc: 79.411765 \n",
      "\tValid Loss: 0.401089 \tValid Acc: 81.250000\n",
      "Epoch: 32 \n",
      "\tTrain Loss: 0.755598 \tTrain Acc: 73.529412 \n",
      "\tValid Loss: 1.143906 \tValid Acc: 68.750000\n",
      "Epoch: 33 \n",
      "\tTrain Loss: 0.342321 \tTrain Acc: 83.823529 \n",
      "\tValid Loss: 0.640667 \tValid Acc: 81.250000\n",
      "Epoch: 34 \n",
      "\tTrain Loss: 0.558358 \tTrain Acc: 86.764706 \n",
      "\tValid Loss: 0.507521 \tValid Acc: 87.500000\n",
      "Epoch: 35 \n",
      "\tTrain Loss: 0.975570 \tTrain Acc: 77.941176 \n",
      "\tValid Loss: 0.696697 \tValid Acc: 87.500000\n",
      "Epoch: 36 \n",
      "\tTrain Loss: 0.333389 \tTrain Acc: 83.823529 \n",
      "\tValid Loss: 0.541462 \tValid Acc: 81.250000\n",
      "Epoch: 37 \n",
      "\tTrain Loss: 0.830193 \tTrain Acc: 83.823529 \n",
      "\tValid Loss: 0.545067 \tValid Acc: 81.250000\n",
      "Epoch: 38 \n",
      "\tTrain Loss: 2.764300 \tTrain Acc: 79.411765 \n",
      "\tValid Loss: 0.660696 \tValid Acc: 81.250000\n",
      "Epoch: 39 \n",
      "\tTrain Loss: 0.632472 \tTrain Acc: 75.000000 \n",
      "\tValid Loss: 0.499730 \tValid Acc: 87.500000\n",
      "Epoch: 40 \n",
      "\tTrain Loss: 0.540400 \tTrain Acc: 76.470588 \n",
      "\tValid Loss: 0.732885 \tValid Acc: 81.250000\n",
      "Epoch: 41 \n",
      "\tTrain Loss: 1.081290 \tTrain Acc: 82.352941 \n",
      "\tValid Loss: 1.275954 \tValid Acc: 68.750000\n",
      "Epoch: 42 \n",
      "\tTrain Loss: 0.494980 \tTrain Acc: 79.411765 \n",
      "\tValid Loss: 0.155857 \tValid Acc: 93.750000\n",
      "Epoch: 43 \n",
      "\tTrain Loss: 0.443459 \tTrain Acc: 82.352941 \n",
      "\tValid Loss: 0.766268 \tValid Acc: 62.500000\n",
      "Epoch: 44 \n",
      "\tTrain Loss: 0.388762 \tTrain Acc: 82.352941 \n",
      "\tValid Loss: 0.272816 \tValid Acc: 93.750000\n",
      "Epoch: 45 \n",
      "\tTrain Loss: 0.257789 \tTrain Acc: 79.411765 \n",
      "\tValid Loss: 0.571156 \tValid Acc: 81.250000\n",
      "Epoch: 46 \n",
      "\tTrain Loss: 0.620206 \tTrain Acc: 75.000000 \n",
      "\tValid Loss: 1.042455 \tValid Acc: 75.000000\n",
      "Epoch: 47 \n",
      "\tTrain Loss: 0.893505 \tTrain Acc: 79.411765 \n",
      "\tValid Loss: 0.305935 \tValid Acc: 87.500000\n",
      "Epoch: 48 \n",
      "\tTrain Loss: 0.537847 \tTrain Acc: 77.941176 \n",
      "\tValid Loss: 0.778911 \tValid Acc: 87.500000\n",
      "Epoch: 49 \n",
      "\tTrain Loss: 0.665134 \tTrain Acc: 76.470588 \n",
      "\tValid Loss: 1.553840 \tValid Acc: 75.000000\n",
      "Epoch: 50 \n",
      "\tTrain Loss: 1.064077 \tTrain Acc: 77.941176 \n",
      "\tValid Loss: 0.603508 \tValid Acc: 87.500000\n",
      "========================================\n"
     ]
    }
   ],
   "source": [
    "# Training teachers\n",
    "teacher_models = []\n",
    "i = 1\n",
    "for trainloader, validloader in zip(trainloaders, validloaders):\n",
    "  print(\" Training Teacher {}\".format(i))\n",
    "  teacher_model = train(epochs, trainloader, validloader, model, optimizer, criterion, True)\n",
    "  teacher_models.append(teacher_model)\n",
    "  i+=1\n",
    "  print(\"=\"*40)"
   ]
  },
  {
   "cell_type": "code",
   "execution_count": null,
   "metadata": {
    "colab": {
     "base_uri": "https://localhost:8080/"
    },
    "id": "TG9jI6w3q-Z2",
    "outputId": "4124b7e8-8ac9-4e7a-bd81-41e7c40d30c5"
   },
   "outputs": [],
   "source": [
    "!pip install tensorboard"
   ]
  },
  {
   "cell_type": "code",
   "execution_count": null,
   "metadata": {
    "colab": {
     "base_uri": "https://localhost:8080/"
    },
    "id": "Kw-9sdAwv5pn",
    "outputId": "e0defd5d-dc53-4f9e-acf8-50dee63d8f66"
   },
   "outputs": [
    {
     "name": "stdout",
     "output_type": "stream",
     "text": [
      "2020-12-18 02:58:49.143472: I tensorflow/stream_executor/platform/default/dso_loader.cc:49] Successfully opened dynamic library libcudart.so.10.1\n",
      "Serving TensorBoard on localhost; to expose to the network, use a proxy or pass --bind_all\n",
      "TensorBoard 2.4.0 at http://localhost:6006/ (Press CTRL+C to quit)\n"
     ]
    }
   ],
   "source": [
    "!tensorboard --logdir=runs"
   ]
  },
  {
   "cell_type": "code",
   "execution_count": null,
   "metadata": {
    "id": "P9M0VAkz169L"
   },
   "outputs": [],
   "source": [
    "torch.save(model.state_dict(), 'models/teacher.pth')"
   ]
  },
  {
   "cell_type": "code",
   "execution_count": null,
   "metadata": {
    "colab": {
     "base_uri": "https://localhost:8080/"
    },
    "id": "zOQYj1xW3h-J",
    "outputId": "6afe0a4e-3069-4ac8-ef07-7c88344c3e1d"
   },
   "outputs": [
    {
     "data": {
      "text/plain": [
       "<All keys matched successfully>"
      ]
     },
     "execution_count": 38,
     "metadata": {
      "tags": []
     },
     "output_type": "execute_result"
    }
   ],
   "source": [
    "model = CNN().to(device)\n",
    "model.load_state_dict(torch.load('models/teacher.pth'))"
   ]
  },
  {
   "cell_type": "markdown",
   "metadata": {
    "id": "aNCxZEsMkAQ2"
   },
   "source": [
    "## Step 4: Get Private Student Labels \n"
   ]
  },
  {
   "cell_type": "code",
   "execution_count": null,
   "metadata": {
    "colab": {
     "base_uri": "https://localhost:8080/"
    },
    "id": "xx5ZjFHkkFWJ",
    "outputId": "a157e760-663a-4b65-c400-3b47daf6af91"
   },
   "outputs": [
    {
     "name": "stdout",
     "output_type": "stream",
     "text": [
      "(163, 5)\n",
      "[1 1 1 1 1]\n"
     ]
    }
   ],
   "source": [
    "# Get private labels\n",
    "def student_train_labels(teacher_models, dataloader):\n",
    "  student_labels = []\n",
    "\n",
    "  # Get label from each teacher\n",
    "  for model in teacher_models:\n",
    "    student_label = []\n",
    "    for images,_ in dataloader:\n",
    "      with torch.no_grad():\n",
    "        images = images.cuda()\n",
    "        outputs = model(images)\n",
    "        preds = torch.argmax(torch.exp(outputs), dim=1)\n",
    "      student_label.append(preds.tolist())\n",
    "\n",
    "    # Add all teacher predictions to student_labels  \n",
    "    student_label = sum(student_label, [])\n",
    "    student_labels.append(student_label)\n",
    "  return student_labels\n",
    "\n",
    "predicted_labels = student_train_labels(teacher_models, student_train_loader)     \n",
    "predicted_labels = np.array([np.array(p) for p in predicted_labels]).transpose(1, 0)\n",
    "\n",
    "# We get 5 labels for each image in our dataset\n",
    "print(predicted_labels.shape)\n",
    "\n",
    "print(predicted_labels[3])"
   ]
  },
  {
   "cell_type": "markdown",
   "metadata": {
    "id": "_F99Sr27kGHu"
   },
   "source": [
    "## Step 5: Add Laplacian Noise\n"
   ]
  },
  {
   "cell_type": "code",
   "execution_count": null,
   "metadata": {
    "id": "x-WP1kABkJ0h"
   },
   "outputs": [],
   "source": [
    "# Get private labels with the most votes count and add noise them\n",
    "def add_noise(predicted_labels, epsilon=0.1):\n",
    "  noisy_labels = []\n",
    "  for preds in predicted_labels:\n",
    "   \n",
    "    # Get labels with max votes\n",
    "    label_counts = np.bincount(preds, minlength=2)\n",
    "    \n",
    "    # Add laplacian noise to label\n",
    "    epsilon = epsilon\n",
    "    beta = 1/epsilon\n",
    "    for i in range(len(label_counts)):\n",
    "      label_counts[i] += np.random.laplace(0, beta, 1)\n",
    "    \n",
    "    # After adding noise we get labels with max counts\n",
    "    new_label = np.argmax(label_counts)\n",
    "    noisy_labels.append(new_label)\n",
    "\n",
    "  # Return noisy_labels\n",
    "  return np.array(noisy_labels)"
   ]
  },
  {
   "cell_type": "code",
   "execution_count": null,
   "metadata": {
    "id": "fcCkx1j3UrHg"
   },
   "outputs": [],
   "source": [
    "epsilon= 0.1"
   ]
  },
  {
   "cell_type": "code",
   "execution_count": null,
   "metadata": {
    "colab": {
     "base_uri": "https://localhost:8080/"
    },
    "id": "Qj1MUzf6bMx6",
    "outputId": "b9b5ef6d-d102-4a06-9b9b-005f9a18e0bf"
   },
   "outputs": [
    {
     "name": "stdout",
     "output_type": "stream",
     "text": [
      "[1 1 0 1 1 1 0 0 1 1 1 0 1 0 1 0 0 0 1 1 1 0 1 0 1 0 0 0 1 1 1 1 1 1 0 1 0\n",
      " 0 1 0 1 1 0 0 0 0 0 1 0 0 1 1 0 1 0 1 1 1 0 0 1 0 1 0 1 1 1 1 1 0 0 0 1 0\n",
      " 0 1 0 0 0 1 1 0 1 0 1 0 1 0 0 0 0 1 1 1 0 0 0 0 0 0 1 0 1 1 0 0 1 1 1 1 0\n",
      " 1 1 0 1 0 1 1 0 1 1 1 1 0 1 0 1 1 1 1 0 0 0 1 0 1 0 0 0 0 1 0 0 0 0 1 1 0\n",
      " 1 1 0 1 0 1 1 0 0 0 0 1 0 0 0]\n",
      "(163,)\n"
     ]
    }
   ],
   "source": [
    "labels_with_noise = add_noise(predicted_labels, epsilon=epsilon)\n",
    "print(labels_with_noise)\n",
    "print(labels_with_noise.shape)"
   ]
  },
  {
   "cell_type": "markdown",
   "metadata": {
    "id": "xwCURuWzRWV_"
   },
   "source": [
    "We can save these labels to a file and then discard the teacher models. "
   ]
  },
  {
   "cell_type": "code",
   "execution_count": null,
   "metadata": {
    "id": "e2C7XbWPLKXA"
   },
   "outputs": [],
   "source": [
    "import csv\n",
    "def write_csv(data):\n",
    "    with open('labels.csv', 'a') as outfile:\n",
    "        writer = csv.writer(outfile)\n",
    "        writer.writerow(data)\n",
    "\n",
    "write_csv(labels_with_noise)"
   ]
  },
  {
   "cell_type": "markdown",
   "metadata": {
    "id": "tZlYVrfZkfF7"
   },
   "source": [
    "## Step 6: Perform PATE Analysis\n"
   ]
  },
  {
   "cell_type": "code",
   "execution_count": null,
   "metadata": {
    "colab": {
     "base_uri": "https://localhost:8080/"
    },
    "id": "ZfDUJB5Scowp",
    "outputId": "ea279941-2a22-4516-ebb3-3d98172839f3"
   },
   "outputs": [
    {
     "name": "stdout",
     "output_type": "stream",
     "text": [
      "Data dependent epsilon: 37.59292546497025\n",
      "Data independent epsilon: 37.592925464970236\n"
     ]
    }
   ],
   "source": [
    "# Performing PATE analysis\n",
    "data_dep_eps, data_ind_eps = pate.perform_analysis(teacher_preds=predicted_labels.T, indices=labels_with_noise, noise_eps=epsilon, delta=1e-5)\n",
    "print('Data dependent epsilon:', data_dep_eps)\n",
    "print('Data independent epsilon:', data_ind_eps)"
   ]
  },
  {
   "cell_type": "markdown",
   "metadata": {
    "id": "fhh3PjvPkLgm"
   },
   "source": [
    "## Step 7: Train Student\n"
   ]
  },
  {
   "cell_type": "code",
   "execution_count": null,
   "metadata": {
    "colab": {
     "base_uri": "https://localhost:8080/"
    },
    "id": "hqgDXzDYkPYh",
    "outputId": "e824c61f-2e82-400a-f189-9c4a4b26a26e"
   },
   "outputs": [
    {
     "data": {
      "text/plain": [
       "(3, 1)"
      ]
     },
     "execution_count": 44,
     "metadata": {
      "tags": []
     },
     "output_type": "execute_result"
    }
   ],
   "source": [
    "# We have to create a new training dataloader for the student with the newly created \n",
    "# labels with noise. We have to replace the old labels with the new labels.\n",
    "def new_student_data_loader(dataloader, noisy_labels, batch_size=64):\n",
    "  image_list = []\n",
    "  for image,_ in dataloader:\n",
    "    image_list.append(image)\n",
    "    \n",
    "  data = np.vstack(image_list)\n",
    "  new_dataset = list(zip(data, noisy_labels))\n",
    "  new_dataloader = DataLoader(new_dataset, batch_size, shuffle=False)\n",
    "\n",
    "  return new_dataloader\n",
    "\n",
    "labeled_student_trainloader = new_student_data_loader(student_train_loader, labels_with_noise)\n",
    "len(labeled_student_trainloader),len(student_valid_loader)"
   ]
  },
  {
   "cell_type": "code",
   "execution_count": null,
   "metadata": {
    "colab": {
     "base_uri": "https://localhost:8080/"
    },
    "id": "_lPctEDyVhEG",
    "outputId": "543e229e-66dc-4afb-b8ce-5bd92665163f"
   },
   "outputs": [
    {
     "name": "stdout",
     "output_type": "stream",
     "text": [
      "Epoch: 1 \n",
      "\tTrain Loss: 3.003945 \tTrain Acc: 50.306748 \n",
      "\tValid Loss: 2.299575 \tValid Acc: 55.000000\n",
      "\tValidation loss decreased (inf --> 2.299575).  Saving model ...\n",
      "Epoch: 2 \n",
      "\tTrain Loss: 3.003945 \tTrain Acc: 50.306748 \n",
      "\tValid Loss: 2.400472 \tValid Acc: 62.500000\n",
      "Epoch: 3 \n",
      "\tTrain Loss: 3.003945 \tTrain Acc: 50.306748 \n",
      "\tValid Loss: 2.552466 \tValid Acc: 65.000000\n",
      "Epoch: 4 \n",
      "\tTrain Loss: 3.003945 \tTrain Acc: 50.306748 \n",
      "\tValid Loss: 2.783597 \tValid Acc: 52.500000\n",
      "Epoch: 5 \n",
      "\tTrain Loss: 3.003945 \tTrain Acc: 50.306748 \n",
      "\tValid Loss: 2.916171 \tValid Acc: 57.500000\n",
      "Epoch: 6 \n",
      "\tTrain Loss: 3.003945 \tTrain Acc: 50.306748 \n",
      "\tValid Loss: 2.235682 \tValid Acc: 67.500000\n",
      "\tValidation loss decreased (2.299575 --> 2.235682).  Saving model ...\n",
      "Epoch: 7 \n",
      "\tTrain Loss: 3.003945 \tTrain Acc: 50.306748 \n",
      "\tValid Loss: 1.898710 \tValid Acc: 60.000000\n",
      "\tValidation loss decreased (2.235682 --> 1.898710).  Saving model ...\n",
      "Epoch: 8 \n",
      "\tTrain Loss: 3.003945 \tTrain Acc: 50.306748 \n",
      "\tValid Loss: 2.491228 \tValid Acc: 60.000000\n",
      "Epoch: 9 \n",
      "\tTrain Loss: 3.003945 \tTrain Acc: 50.306748 \n",
      "\tValid Loss: 2.377244 \tValid Acc: 57.500000\n",
      "Epoch: 10 \n",
      "\tTrain Loss: 3.003945 \tTrain Acc: 50.306748 \n",
      "\tValid Loss: 2.106520 \tValid Acc: 60.000000\n",
      "Epoch: 11 \n",
      "\tTrain Loss: 3.003945 \tTrain Acc: 50.306748 \n",
      "\tValid Loss: 1.960397 \tValid Acc: 65.000000\n",
      "Epoch: 12 \n",
      "\tTrain Loss: 3.003945 \tTrain Acc: 50.306748 \n",
      "\tValid Loss: 2.098397 \tValid Acc: 60.000000\n",
      "Epoch: 13 \n",
      "\tTrain Loss: 3.003945 \tTrain Acc: 50.306748 \n",
      "\tValid Loss: 2.003222 \tValid Acc: 60.000000\n",
      "Epoch: 14 \n",
      "\tTrain Loss: 3.003945 \tTrain Acc: 50.306748 \n",
      "\tValid Loss: 2.061656 \tValid Acc: 60.000000\n",
      "Epoch: 15 \n",
      "\tTrain Loss: 3.003945 \tTrain Acc: 50.306748 \n",
      "\tValid Loss: 2.133635 \tValid Acc: 55.000000\n",
      "Epoch: 16 \n",
      "\tTrain Loss: 3.003945 \tTrain Acc: 50.306748 \n",
      "\tValid Loss: 2.035845 \tValid Acc: 52.500000\n",
      "Epoch: 17 \n",
      "\tTrain Loss: 3.003945 \tTrain Acc: 50.306748 \n",
      "\tValid Loss: 1.867419 \tValid Acc: 67.500000\n",
      "\tValidation loss decreased (1.898710 --> 1.867419).  Saving model ...\n",
      "Epoch: 18 \n",
      "\tTrain Loss: 3.003945 \tTrain Acc: 50.306748 \n",
      "\tValid Loss: 1.277449 \tValid Acc: 65.000000\n",
      "\tValidation loss decreased (1.867419 --> 1.277449).  Saving model ...\n",
      "Epoch: 19 \n",
      "\tTrain Loss: 3.003945 \tTrain Acc: 50.306748 \n",
      "\tValid Loss: 2.454986 \tValid Acc: 57.500000\n",
      "Epoch: 20 \n",
      "\tTrain Loss: 3.003945 \tTrain Acc: 50.306748 \n",
      "\tValid Loss: 2.347500 \tValid Acc: 60.000000\n",
      "Epoch: 21 \n",
      "\tTrain Loss: 3.003945 \tTrain Acc: 50.306748 \n",
      "\tValid Loss: 3.069414 \tValid Acc: 52.500000\n",
      "Epoch: 22 \n",
      "\tTrain Loss: 3.003945 \tTrain Acc: 50.306748 \n",
      "\tValid Loss: 2.462644 \tValid Acc: 60.000000\n",
      "Epoch: 23 \n",
      "\tTrain Loss: 3.003945 \tTrain Acc: 50.306748 \n",
      "\tValid Loss: 1.961047 \tValid Acc: 72.500000\n",
      "Epoch: 24 \n",
      "\tTrain Loss: 3.003945 \tTrain Acc: 50.306748 \n",
      "\tValid Loss: 2.432560 \tValid Acc: 55.000000\n",
      "Epoch: 25 \n",
      "\tTrain Loss: 3.003945 \tTrain Acc: 50.306748 \n",
      "\tValid Loss: 2.721227 \tValid Acc: 57.500000\n",
      "Epoch: 26 \n",
      "\tTrain Loss: 3.003945 \tTrain Acc: 50.306748 \n",
      "\tValid Loss: 2.606708 \tValid Acc: 70.000000\n",
      "Epoch: 27 \n",
      "\tTrain Loss: 3.003945 \tTrain Acc: 50.306748 \n",
      "\tValid Loss: 1.990088 \tValid Acc: 55.000000\n",
      "Epoch: 28 \n",
      "\tTrain Loss: 3.003945 \tTrain Acc: 50.306748 \n",
      "\tValid Loss: 2.120544 \tValid Acc: 65.000000\n",
      "Epoch: 29 \n",
      "\tTrain Loss: 3.003945 \tTrain Acc: 50.306748 \n",
      "\tValid Loss: 3.052874 \tValid Acc: 55.000000\n",
      "Epoch: 30 \n",
      "\tTrain Loss: 3.003945 \tTrain Acc: 50.306748 \n",
      "\tValid Loss: 2.026252 \tValid Acc: 60.000000\n",
      "Epoch: 31 \n",
      "\tTrain Loss: 3.003945 \tTrain Acc: 50.306748 \n",
      "\tValid Loss: 2.148591 \tValid Acc: 60.000000\n",
      "Epoch: 32 \n",
      "\tTrain Loss: 3.003945 \tTrain Acc: 50.306748 \n",
      "\tValid Loss: 1.870387 \tValid Acc: 60.000000\n",
      "Epoch: 33 \n",
      "\tTrain Loss: 3.003945 \tTrain Acc: 50.306748 \n",
      "\tValid Loss: 2.320083 \tValid Acc: 55.000000\n",
      "Epoch: 34 \n",
      "\tTrain Loss: 3.003945 \tTrain Acc: 50.306748 \n",
      "\tValid Loss: 2.808478 \tValid Acc: 57.500000\n",
      "Epoch: 35 \n",
      "\tTrain Loss: 3.003945 \tTrain Acc: 50.306748 \n",
      "\tValid Loss: 3.220144 \tValid Acc: 55.000000\n",
      "Epoch: 36 \n",
      "\tTrain Loss: 3.003945 \tTrain Acc: 50.306748 \n",
      "\tValid Loss: 2.660605 \tValid Acc: 65.000000\n",
      "Epoch: 37 \n",
      "\tTrain Loss: 3.003945 \tTrain Acc: 50.306748 \n",
      "\tValid Loss: 1.778765 \tValid Acc: 67.500000\n",
      "Epoch: 38 \n",
      "\tTrain Loss: 3.003945 \tTrain Acc: 50.306748 \n",
      "\tValid Loss: 2.041520 \tValid Acc: 67.500000\n",
      "Epoch: 39 \n",
      "\tTrain Loss: 3.003945 \tTrain Acc: 50.306748 \n",
      "\tValid Loss: 2.415327 \tValid Acc: 65.000000\n",
      "Epoch: 40 \n",
      "\tTrain Loss: 3.003945 \tTrain Acc: 50.306748 \n",
      "\tValid Loss: 1.784379 \tValid Acc: 67.500000\n",
      "Epoch: 41 \n",
      "\tTrain Loss: 3.003945 \tTrain Acc: 50.306748 \n",
      "\tValid Loss: 2.855491 \tValid Acc: 57.500000\n",
      "Epoch: 42 \n",
      "\tTrain Loss: 3.003945 \tTrain Acc: 50.306748 \n",
      "\tValid Loss: 2.395263 \tValid Acc: 65.000000\n",
      "Epoch: 43 \n",
      "\tTrain Loss: 3.003945 \tTrain Acc: 50.306748 \n",
      "\tValid Loss: 2.380897 \tValid Acc: 57.500000\n",
      "Epoch: 44 \n",
      "\tTrain Loss: 3.003945 \tTrain Acc: 50.306748 \n",
      "\tValid Loss: 3.262030 \tValid Acc: 45.000000\n",
      "Epoch: 45 \n",
      "\tTrain Loss: 3.003945 \tTrain Acc: 50.306748 \n",
      "\tValid Loss: 2.221678 \tValid Acc: 52.500000\n",
      "Epoch: 46 \n",
      "\tTrain Loss: 3.003945 \tTrain Acc: 50.306748 \n",
      "\tValid Loss: 2.521446 \tValid Acc: 57.500000\n",
      "Epoch: 47 \n",
      "\tTrain Loss: 3.003945 \tTrain Acc: 50.306748 \n",
      "\tValid Loss: 2.031202 \tValid Acc: 55.000000\n",
      "Epoch: 48 \n",
      "\tTrain Loss: 3.003945 \tTrain Acc: 50.306748 \n",
      "\tValid Loss: 2.535508 \tValid Acc: 62.500000\n",
      "Epoch: 49 \n",
      "\tTrain Loss: 3.003945 \tTrain Acc: 50.306748 \n",
      "\tValid Loss: 2.235079 \tValid Acc: 62.500000\n",
      "Epoch: 50 \n",
      "\tTrain Loss: 3.003945 \tTrain Acc: 50.306748 \n",
      "\tValid Loss: 2.249069 \tValid Acc: 62.500000\n"
     ]
    }
   ],
   "source": [
    "student_model = train(epochs, labeled_student_trainloader, student_valid_loader, model, optimizer, criterion, True, save_path='models/student.pth', is_not_teacher=True)"
   ]
  },
  {
   "cell_type": "markdown",
   "metadata": {
    "id": "GFK7rHBLklXw"
   },
   "source": [
    "## Deep Learning Model without privacy"
   ]
  },
  {
   "cell_type": "code",
   "execution_count": null,
   "metadata": {
    "colab": {
     "base_uri": "https://localhost:8080/"
    },
    "id": "2B6DDzPnAQ4w",
    "outputId": "bd03db1e-ef66-4c3e-d05c-15b9d3860131"
   },
   "outputs": [
    {
     "name": "stdout",
     "output_type": "stream",
     "text": [
      "Epoch: 1 \n",
      "\tTrain Loss: 2.544882 \tTrain Acc: 56.441718 \n",
      "\tValid Loss: 2.565151 \tValid Acc: 65.000000\n",
      "\tValidation loss decreased (inf --> 2.565151).  Saving model ...\n",
      "Epoch: 2 \n",
      "\tTrain Loss: 2.271853 \tTrain Acc: 58.895706 \n",
      "\tValid Loss: 2.262423 \tValid Acc: 60.000000\n",
      "\tValidation loss decreased (2.565151 --> 2.262423).  Saving model ...\n",
      "Epoch: 3 \n",
      "\tTrain Loss: 2.284878 \tTrain Acc: 60.122699 \n",
      "\tValid Loss: 2.429930 \tValid Acc: 67.500000\n",
      "Epoch: 4 \n",
      "\tTrain Loss: 2.232926 \tTrain Acc: 60.122699 \n",
      "\tValid Loss: 1.983671 \tValid Acc: 60.000000\n",
      "\tValidation loss decreased (2.262423 --> 1.983671).  Saving model ...\n",
      "Epoch: 5 \n",
      "\tTrain Loss: 2.528926 \tTrain Acc: 56.441718 \n",
      "\tValid Loss: 2.587548 \tValid Acc: 55.000000\n",
      "Epoch: 6 \n",
      "\tTrain Loss: 2.287966 \tTrain Acc: 61.963190 \n",
      "\tValid Loss: 2.384578 \tValid Acc: 57.500000\n",
      "Epoch: 7 \n",
      "\tTrain Loss: 2.399517 \tTrain Acc: 57.055215 \n",
      "\tValid Loss: 2.132826 \tValid Acc: 62.500000\n",
      "Epoch: 8 \n",
      "\tTrain Loss: 2.679523 \tTrain Acc: 56.441718 \n",
      "\tValid Loss: 2.646722 \tValid Acc: 67.500000\n",
      "Epoch: 9 \n",
      "\tTrain Loss: 2.476173 \tTrain Acc: 61.349693 \n",
      "\tValid Loss: 1.517667 \tValid Acc: 67.500000\n",
      "\tValidation loss decreased (1.983671 --> 1.517667).  Saving model ...\n",
      "Epoch: 10 \n",
      "\tTrain Loss: 2.331129 \tTrain Acc: 60.736196 \n",
      "\tValid Loss: 1.956310 \tValid Acc: 60.000000\n",
      "Epoch: 11 \n",
      "\tTrain Loss: 2.453572 \tTrain Acc: 61.349693 \n",
      "\tValid Loss: 2.194269 \tValid Acc: 57.500000\n",
      "Epoch: 12 \n",
      "\tTrain Loss: 2.263778 \tTrain Acc: 57.668712 \n",
      "\tValid Loss: 2.553229 \tValid Acc: 60.000000\n",
      "Epoch: 13 \n",
      "\tTrain Loss: 2.256014 \tTrain Acc: 59.509202 \n",
      "\tValid Loss: 2.346186 \tValid Acc: 62.500000\n",
      "Epoch: 14 \n",
      "\tTrain Loss: 2.582477 \tTrain Acc: 59.509202 \n",
      "\tValid Loss: 2.126892 \tValid Acc: 65.000000\n",
      "Epoch: 15 \n",
      "\tTrain Loss: 2.337269 \tTrain Acc: 58.282209 \n",
      "\tValid Loss: 1.863062 \tValid Acc: 62.500000\n",
      "Epoch: 16 \n",
      "\tTrain Loss: 2.217923 \tTrain Acc: 60.122699 \n",
      "\tValid Loss: 2.274024 \tValid Acc: 55.000000\n",
      "Epoch: 17 \n",
      "\tTrain Loss: 2.406137 \tTrain Acc: 54.601227 \n",
      "\tValid Loss: 1.873235 \tValid Acc: 70.000000\n",
      "Epoch: 18 \n",
      "\tTrain Loss: 2.505925 \tTrain Acc: 55.828221 \n",
      "\tValid Loss: 2.460887 \tValid Acc: 60.000000\n",
      "Epoch: 19 \n",
      "\tTrain Loss: 2.453401 \tTrain Acc: 57.055215 \n",
      "\tValid Loss: 1.978057 \tValid Acc: 57.500000\n",
      "Epoch: 20 \n",
      "\tTrain Loss: 2.318139 \tTrain Acc: 57.668712 \n",
      "\tValid Loss: 1.794566 \tValid Acc: 65.000000\n",
      "Epoch: 21 \n",
      "\tTrain Loss: 2.458164 \tTrain Acc: 61.963190 \n",
      "\tValid Loss: 1.912895 \tValid Acc: 60.000000\n",
      "Epoch: 22 \n",
      "\tTrain Loss: 2.508020 \tTrain Acc: 56.441718 \n",
      "\tValid Loss: 2.074597 \tValid Acc: 65.000000\n",
      "Epoch: 23 \n",
      "\tTrain Loss: 2.152176 \tTrain Acc: 60.122699 \n",
      "\tValid Loss: 1.985537 \tValid Acc: 55.000000\n",
      "Epoch: 24 \n",
      "\tTrain Loss: 2.255042 \tTrain Acc: 58.282209 \n",
      "\tValid Loss: 2.153626 \tValid Acc: 65.000000\n",
      "Epoch: 25 \n",
      "\tTrain Loss: 2.215146 \tTrain Acc: 55.828221 \n",
      "\tValid Loss: 2.018319 \tValid Acc: 70.000000\n",
      "Epoch: 26 \n",
      "\tTrain Loss: 2.140760 \tTrain Acc: 62.576687 \n",
      "\tValid Loss: 2.065998 \tValid Acc: 60.000000\n",
      "Epoch: 27 \n",
      "\tTrain Loss: 2.359730 \tTrain Acc: 58.282209 \n",
      "\tValid Loss: 1.819931 \tValid Acc: 60.000000\n",
      "Epoch: 28 \n",
      "\tTrain Loss: 2.563720 \tTrain Acc: 55.828221 \n",
      "\tValid Loss: 2.328065 \tValid Acc: 70.000000\n",
      "Epoch: 29 \n",
      "\tTrain Loss: 1.946115 \tTrain Acc: 66.871166 \n",
      "\tValid Loss: 2.409769 \tValid Acc: 62.500000\n",
      "Epoch: 30 \n",
      "\tTrain Loss: 2.184341 \tTrain Acc: 55.828221 \n",
      "\tValid Loss: 2.228385 \tValid Acc: 52.500000\n",
      "Epoch: 31 \n",
      "\tTrain Loss: 2.441704 \tTrain Acc: 60.736196 \n",
      "\tValid Loss: 2.471045 \tValid Acc: 57.500000\n",
      "Epoch: 32 \n",
      "\tTrain Loss: 2.566208 \tTrain Acc: 52.760736 \n",
      "\tValid Loss: 2.239485 \tValid Acc: 57.500000\n",
      "Epoch: 33 \n",
      "\tTrain Loss: 2.045895 \tTrain Acc: 62.576687 \n",
      "\tValid Loss: 1.782122 \tValid Acc: 65.000000\n",
      "Epoch: 34 \n",
      "\tTrain Loss: 2.450473 \tTrain Acc: 60.736196 \n",
      "\tValid Loss: 2.083850 \tValid Acc: 55.000000\n",
      "Epoch: 35 \n",
      "\tTrain Loss: 2.131446 \tTrain Acc: 60.736196 \n",
      "\tValid Loss: 1.773306 \tValid Acc: 55.000000\n",
      "Epoch: 36 \n",
      "\tTrain Loss: 2.032532 \tTrain Acc: 63.803681 \n",
      "\tValid Loss: 2.390599 \tValid Acc: 62.500000\n",
      "Epoch: 37 \n",
      "\tTrain Loss: 2.070199 \tTrain Acc: 60.122699 \n",
      "\tValid Loss: 1.902938 \tValid Acc: 60.000000\n",
      "Epoch: 38 \n",
      "\tTrain Loss: 2.478403 \tTrain Acc: 58.282209 \n",
      "\tValid Loss: 2.896737 \tValid Acc: 62.500000\n",
      "Epoch: 39 \n",
      "\tTrain Loss: 2.288802 \tTrain Acc: 60.736196 \n",
      "\tValid Loss: 1.907903 \tValid Acc: 62.500000\n",
      "Epoch: 40 \n",
      "\tTrain Loss: 2.461583 \tTrain Acc: 59.509202 \n",
      "\tValid Loss: 2.328656 \tValid Acc: 55.000000\n",
      "Epoch: 41 \n",
      "\tTrain Loss: 2.417512 \tTrain Acc: 58.282209 \n",
      "\tValid Loss: 2.600827 \tValid Acc: 52.500000\n",
      "Epoch: 42 \n",
      "\tTrain Loss: 2.716268 \tTrain Acc: 57.668712 \n",
      "\tValid Loss: 2.355701 \tValid Acc: 57.500000\n",
      "Epoch: 43 \n",
      "\tTrain Loss: 2.368288 \tTrain Acc: 59.509202 \n",
      "\tValid Loss: 1.839646 \tValid Acc: 60.000000\n",
      "Epoch: 44 \n",
      "\tTrain Loss: 2.071917 \tTrain Acc: 62.576687 \n",
      "\tValid Loss: 2.216953 \tValid Acc: 57.500000\n",
      "Epoch: 45 \n",
      "\tTrain Loss: 2.419534 \tTrain Acc: 60.122699 \n",
      "\tValid Loss: 2.102144 \tValid Acc: 57.500000\n",
      "Epoch: 46 \n",
      "\tTrain Loss: 2.205585 \tTrain Acc: 61.963190 \n",
      "\tValid Loss: 2.603846 \tValid Acc: 52.500000\n",
      "Epoch: 47 \n",
      "\tTrain Loss: 1.990959 \tTrain Acc: 59.509202 \n",
      "\tValid Loss: 2.293411 \tValid Acc: 57.500000\n",
      "Epoch: 48 \n",
      "\tTrain Loss: 2.192035 \tTrain Acc: 60.736196 \n",
      "\tValid Loss: 2.100556 \tValid Acc: 57.500000\n",
      "Epoch: 49 \n",
      "\tTrain Loss: 2.183525 \tTrain Acc: 60.122699 \n",
      "\tValid Loss: 2.231673 \tValid Acc: 57.500000\n",
      "Epoch: 50 \n",
      "\tTrain Loss: 2.460347 \tTrain Acc: 59.509202 \n",
      "\tValid Loss: 2.327344 \tValid Acc: 57.500000\n"
     ]
    }
   ],
   "source": [
    "# Normal Deep Learning Training\n",
    "normal_model = train(epochs, student_train_loader, student_valid_loader, model, optimizer, criterion, True, save_path='models/normal.pth', is_not_teacher=True)"
   ]
  },
  {
   "cell_type": "markdown",
   "metadata": {
    "id": "hVxYhQ2gAo5w"
   },
   "source": [
    "## Comparing Deep Learning Model and Privacy Preserving Model"
   ]
  },
  {
   "cell_type": "code",
   "execution_count": null,
   "metadata": {
    "colab": {
     "base_uri": "https://localhost:8080/"
    },
    "id": "wkOfVG6oAYw9",
    "outputId": "f3117dc3-fe2b-47e6-b0ec-05f0afd96dbf"
   },
   "outputs": [
    {
     "name": "stdout",
     "output_type": "stream",
     "text": [
      "118\n"
     ]
    }
   ],
   "source": [
    "# Create a dataloader for the test Dataset\n",
    "batch_size = 64\n",
    "print(len(validset))\n",
    "dataloader = DataLoader(validset, batch_size=batchsize, shuffle=False)"
   ]
  },
  {
   "cell_type": "code",
   "execution_count": null,
   "metadata": {
    "colab": {
     "base_uri": "https://localhost:8080/"
    },
    "id": "pDoAKVg5Vz0q",
    "outputId": "b0d96d48-925c-4a6b-a7c5-e45fbf0c3c32"
   },
   "outputs": [
    {
     "name": "stdout",
     "output_type": "stream",
     "text": [
      "Student Model\n",
      "\tTest Loss: 2.380112\n",
      "\tTest Accuracy: 61% (61/118)\n",
      "\n",
      "=======================\n",
      "Normal Model\n",
      "\tTest Loss: 2.436225\n",
      "\tTest Accuracy: 65% (65/118)\n"
     ]
    }
   ],
   "source": [
    "seed = 3\n",
    "random.seed(seed)\n",
    "np.random.seed(seed)\n",
    "torch.manual_seed(seed)\n",
    "torch.backends.cudnn.deterministic = True\n",
    "torch.backends.cudnn.benchmark = False\n",
    "\n",
    "def test(dataloader, model, criterion, use_cuda):\n",
    "    test_loss = 0.\n",
    "    correct = 0.\n",
    "    total = 0.\n",
    "\n",
    "    model.eval()\n",
    "    for batch_idx, (data, target) in enumerate(dataloader):\n",
    "        if use_cuda:\n",
    "            data, target = data.cuda(), target.cuda()\n",
    "        \n",
    "        # forward pass: compute predicted outputs by passing inputs to the model\n",
    "        output = model(data)\n",
    "        \n",
    "        # calculate the loss\n",
    "        loss = criterion(output, target)\n",
    "       \n",
    "        # update average test loss \n",
    "        test_loss = test_loss + ((1 / (batch_idx + 1)) * (loss.data - test_loss))\n",
    "        \n",
    "        # convert output probabilities to predicted class\n",
    "        pred = output.data.max(1, keepdim=True)[1]\n",
    "        \n",
    "        # compare predictions to true label\n",
    "        correct += np.sum(np.squeeze(pred.eq(target.data.view_as(pred))).cpu().numpy())\n",
    "        total += data.size(0)\n",
    "            \n",
    "    print('\\tTest Loss: {:.6f}'.format(test_loss))\n",
    "    print('\\tTest Accuracy: %2d%% (%2d/%2d)' % (\n",
    "        100. * correct / total, correct, total))\n",
    "\n",
    "# call test function\n",
    "print(\"Student Model\")     \n",
    "test(dataloader, student_model, criterion, True)\n",
    "\n",
    "print(\"\\n=======================\\nNormal Model\")\n",
    "test(dataloader, normal_model, criterion, True)"
   ]
  },
  {
   "cell_type": "markdown",
   "metadata": {
    "id": "iIbc9_KhWmev"
   },
   "source": [
    "## Inference\n",
    "\n",
    "We get an accuracy of 65% for the normal model without differential privacy and 61% for the model with differential privacy. <br>\n",
    "We achieve an accuracy closer to the original model without sacrificing privacy. "
   ]
  },
  {
   "cell_type": "markdown",
   "metadata": {
    "id": "q4f6XX-v9A3D"
   },
   "source": [
    "## References\n",
    "\n",
    "\n",
    "1.   Dwork, C., McSherry, F., Nissim, K., & Smith, A. (2006, March). [Calibrating noise to sensitivity in private data analysis. In Theory of Cryptography Conference (pp. 265-284). Springer, Berlin, Heidelberg.](https://link.springer.com/chapter/10.1007/11681878_14)\n",
    "\n",
    "2.   Nicolas Sartor (2019, May). [Explaining Differential Privacy in 3 Levels of Difficulty](https://aircloak.com/explaining-differential-privacy/)\n",
    "\n",
    "3.   Nicolas Papernot, et al.(2017) [Semi-supervised Knowledge Transfer for Deep Learning from Private Training Data.](https://arxiv.org/pdf/1610.05755.pdf)\n",
    "\n",
    "4.   [Dataset Source](https://github.com/UCSD-AI4H/COVID-CT)\n",
    "\n",
    "5.   Nicolas Papernot and Ian Goodfellow, (2018, April), [Privacy and machine learning: two unexpected allies?](http://www.cleverhans.io/privacy/2018/04/29/privacy-and-machine-learning.html)\n",
    "\n",
    "6.   [Secure and Private AI course on Udacity](https://www.udacity.com/course/secure-and-private-ai--ud185)\n"
   ]
  }
 ],
 "metadata": {
  "accelerator": "GPU",
  "colab": {
   "collapsed_sections": [],
   "name": "PATE Analysis.ipynb",
   "provenance": [],
   "toc_visible": true
  },
  "kernelspec": {
   "display_name": "Python 3",
   "language": "python",
   "name": "python3"
  },
  "language_info": {
   "codemirror_mode": {
    "name": "ipython",
    "version": 3
   },
   "file_extension": ".py",
   "mimetype": "text/x-python",
   "name": "python",
   "nbconvert_exporter": "python",
   "pygments_lexer": "ipython3",
   "version": "3.7.8-final"
  }
 },
 "nbformat": 4,
 "nbformat_minor": 4
}